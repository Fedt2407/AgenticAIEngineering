{
  "cells": [
    {
      "cell_type": "markdown",
      "metadata": {},
      "source": [
        "## Week 2 Day 2\n",
        "\n",
        "Our first Agentic Framework project!!\n",
        "\n",
        "Prepare yourself for something ridiculously easy.\n",
        "\n",
        "We're going to build a simple Agent system for generating cold sales outreach emails:\n",
        "1. Agent workflow\n",
        "2. Use of tools to call functions\n",
        "3. Agent collaboration via Tools and Handoffs"
      ]
    },
    {
      "cell_type": "markdown",
      "metadata": {},
      "source": [
        "## Before we start - some setup:\n",
        "\n",
        "\n",
        "Please visit Sendgrid at: https://sendgrid.com/\n",
        "\n",
        "(Sendgrid is a Twilio company for sending emails.)\n",
        "\n",
        "If SendGrid gives you problems, see the alternative implementation using \"Resend Email\" in community_contributions/2_lab2_with_resend_email\n",
        "\n",
        "Please set up an account - it's free! (at least, for me, right now).\n",
        "\n",
        "Once you've created an account, click on:\n",
        "\n",
        "Settings (left sidebar) >> API Keys >> Create API Key (button on top right)\n",
        "\n",
        "Copy the key to the clipboard, then add a new line to your .env file:\n",
        "\n",
        "`SENDGRID_API_KEY=xxxx`\n",
        "\n",
        "And also, within SendGrid, go to:\n",
        "\n",
        "Settings (left sidebar) >> Sender Authentication >> \"Verify a Single Sender\"  \n",
        "and verify that your own email address is a real email address, so that SendGrid can send emails for you.\n"
      ]
    },
    {
      "cell_type": "code",
      "execution_count": 34,
      "metadata": {},
      "outputs": [],
      "source": [
        "from dotenv import load_dotenv                                   # Load environment variables from .env file\n",
        "from agents import Agent, Runner, trace, function_tool           # Import core agent framework components\n",
        "from openai.types.responses import ResponseTextDeltaEvent        # OpenAI streaming response type\n",
        "from typing import Dict                                          # Python type hints\n",
        "import sendgrid                                                  # SendGrid email service SDK\n",
        "import os                                                        # Operating system interface\n",
        "from sendgrid.helpers.mail import Mail, Email, To, Content       # SendGrid email components\n",
        "import asyncio                                                   # Async I/O support for Python\n",
        "import requests                                                  # HTTP requests library\n",
        "import certifi\n",
        "os.environ['SSL_CERT_FILE'] = certifi.where()"
      ]
    },
    {
      "cell_type": "code",
      "execution_count": 2,
      "metadata": {},
      "outputs": [
        {
          "data": {
            "text/plain": [
              "True"
            ]
          },
          "execution_count": 2,
          "metadata": {},
          "output_type": "execute_result"
        }
      ],
      "source": [
        "load_dotenv(override=True)"
      ]
    },
    {
      "cell_type": "code",
      "execution_count": 35,
      "metadata": {},
      "outputs": [
        {
          "name": "stdout",
          "output_type": "stream",
          "text": [
            "202\n"
          ]
        }
      ],
      "source": [
        "# Let's just check emails are working for you\n",
        "\n",
        "def send_test_email():\n",
        "    sg = sendgrid.SendGridAPIClient(api_key=os.environ.get('SENDGRID_API_KEY'))\n",
        "    from_email = Email(\"federico.tognetti@gmail.com\")  # Change to your verified sender\n",
        "    to_email = To(\"federico.tognetti@gmail.com\")  # Change to your recipient\n",
        "    content = Content(\"text/plain\", \"This is an important test email\")\n",
        "    mail = Mail(from_email, to_email, \"Test email\", content).get()\n",
        "    response = sg.client.mail.send.post(request_body=mail)\n",
        "    print(response.status_code)\n",
        "\n",
        "send_test_email()"
      ]
    },
    {
      "cell_type": "markdown",
      "metadata": {},
      "source": [
        "### Did you receive the test email\n",
        "\n",
        "If you get a 202, then you're good to go!\n",
        "\n",
        "#### Certificate error\n",
        "\n",
        "If you get an error SSL: CERTIFICATE_VERIFY_FAILED then students Chris S and Oleksandr K have suggestions:  \n",
        "First run this: `!uv pip install --upgrade certifi`  \n",
        "Next, run this:\n",
        "```python\n",
        "import certifi\n",
        "import os\n",
        "os.environ['SSL_CERT_FILE'] = certifi.where()\n",
        "```\n",
        "\n",
        "#### Other errors or no email\n",
        "\n",
        "If there are other problems, you'll need to check your API key and your verified sender email address in the SendGrid dashboard\n",
        "\n",
        "Or use the alternative implementation using \"Resend Email\" in community_contributions/2_lab2_with_resend_email\n",
        "\n",
        "(Or - you could always replace the email sending code below with a Pushover call, or something to simply write to a flat file)"
      ]
    },
    {
      "cell_type": "code",
      "execution_count": null,
      "metadata": {},
      "outputs": [
        {
          "name": "stdout",
          "output_type": "stream",
          "text": [
            "Push: This is a test email\n"
          ]
        }
      ],
      "source": [
        "# # NB: This code will allow to use Pushover to send emails\n",
        "\n",
        "# pushover_user = os.getenv(\"PUSHOVER_USER\")\n",
        "# pushover_token = os.getenv(\"PUSHOVER_TOKEN\")\n",
        "# pushover_url = \"https://api.pushover.net/1/messages.json\"\n",
        "\n",
        "\n",
        "# def send_test_email(message):\n",
        "#     print(f\"Push: {message}\")\n",
        "#     payload = {\"user\": pushover_user, \"token\": pushover_token, \"message\": message}\n",
        "#     requests.post(pushover_url, data=payload)\n",
        "\n",
        "# send_test_email(\"This is a test email\")"
      ]
    },
    {
      "cell_type": "markdown",
      "metadata": {},
      "source": [
        "## Step 1: Agent workflow"
      ]
    },
    {
      "cell_type": "code",
      "execution_count": 36,
      "metadata": {},
      "outputs": [],
      "source": [
        "instructions1 = \"You are a sales agent working for ComplAI, \\\n",
        "a company that provides a SaaS tool for ensuring SOC2 compliance and preparing for audits, powered by AI. \\\n",
        "You write professional, serious cold emails.\"\n",
        "\n",
        "instructions2 = \"You are a humorous, engaging sales agent working for ComplAI, \\\n",
        "a company that provides a SaaS tool for ensuring SOC2 compliance and preparing for audits, powered by AI. \\\n",
        "You write witty, engaging cold emails that are likely to get a response.\"\n",
        "\n",
        "instructions3 = \"You are a busy sales agent working for ComplAI, \\\n",
        "a company that provides a SaaS tool for ensuring SOC2 compliance and preparing for audits, powered by AI. \\\n",
        "You write concise, to the point cold emails.\""
      ]
    },
    {
      "cell_type": "code",
      "execution_count": 37,
      "metadata": {},
      "outputs": [],
      "source": [
        "sales_agent1 = Agent(\n",
        "        name=\"Professional Sales Agent\",\n",
        "        instructions=instructions1,\n",
        "        model=\"gpt-4o-mini\"\n",
        ")\n",
        "\n",
        "sales_agent2 = Agent(\n",
        "        name=\"Engaging Sales Agent\",\n",
        "        instructions=instructions2,\n",
        "        model=\"gpt-4o-mini\"\n",
        ")\n",
        "\n",
        "sales_agent3 = Agent(\n",
        "        name=\"Busy Sales Agent\",\n",
        "        instructions=instructions3,\n",
        "        model=\"gpt-4o-mini\"\n",
        ")"
      ]
    },
    {
      "cell_type": "code",
      "execution_count": null,
      "metadata": {},
      "outputs": [
        {
          "name": "stdout",
          "output_type": "stream",
          "text": [
            "Subject: Streamline Your SOC 2 Compliance with ComplAI\n",
            "\n",
            "Dear [Recipient's Name],\n",
            "\n",
            "I hope this message finds you well.\n",
            "\n",
            "Navigating the complexities of SOC 2 compliance can often be overwhelming and time-consuming. At ComplAI, we understand the challenges companies face in maintaining compliance and preparing for thorough audits. That’s why we’ve developed an AI-powered SaaS tool designed to simplify and streamline the entire process.\n",
            "\n",
            "Our solution offers:\n",
            "\n",
            "- **Automated Documentation**: Easily generate and manage the necessary documentation for SOC 2 compliance.\n",
            "- **Real-Time Monitoring**: Stay updated on your compliance status with instant alerts and insights.\n",
            "- **Comprehensive Audit Preparation**: Simplify your audit processes with organized reports and evidence collection.\n",
            "\n",
            "By leveraging our platform, organizations like yours have improved their compliance efficiency, reduced audit prep time, and mitigated risks.\n",
            "\n",
            "I would love to schedule a brief call to discuss how ComplAI can support your compliance efforts and help you achieve your goals more effectively. Would you be available for a 20-minute discussion this week?\n",
            "\n",
            "Thank you for your time, and I look forward to connecting.\n",
            "\n",
            "Best regards,\n",
            "\n",
            "[Your Full Name]  \n",
            "[Your Job Title]  \n",
            "ComplAI  \n",
            "[Your Phone Number]  \n",
            "[Your LinkedIn Profile]  \n",
            "[Your Company Website]  "
          ]
        }
      ],
      "source": [
        "\n",
        "# This code runs the sales agent and streams its response in real-time:\n",
        "# 1. Calls the sales agent with \"Write a cold sales email\" input\n",
        "# 2. Asynchronously iterates through the response stream events\n",
        "# 3. When a text response event is received, prints it immediately without line breaks\n",
        "# The flush=True ensures the output appears in real-time rather than being buffered\n",
        "\n",
        "result = Runner.run_streamed(sales_agent1, input=\"Write a cold sales email\")\n",
        "async for event in result.stream_events():\n",
        "    if event.type == \"raw_response_event\" and isinstance(event.data, ResponseTextDeltaEvent):\n",
        "        print(event.data.delta, end=\"\", flush=True)"
      ]
    },
    {
      "cell_type": "code",
      "execution_count": null,
      "metadata": {},
      "outputs": [
        {
          "name": "stdout",
          "output_type": "stream",
          "text": [
            "Subject: Simplify Your SOC 2 Compliance Process with ComplAI\n",
            "\n",
            "Dear [Recipient's Name],\n",
            "\n",
            "I hope this message finds you well.\n",
            "\n",
            "Navigating the complexities of SOC 2 compliance can be a daunting task, but it doesn't have to be. At ComplAI, we provide a cutting-edge SaaS solution designed to streamline your compliance efforts and prepare you for audits with ease. Our AI-powered platform automates time-consuming processes, ensuring that you not only meet compliance requirements but also maintain high standards of security and efficiency.\n",
            "\n",
            "Here are a few ways ComplAI can benefit your organization:\n",
            "\n",
            "- **Automated Reports**: Save countless hours with our intelligent reporting system, which generates comprehensive compliance documentation.\n",
            "- **Real-time Monitoring**: Stay ahead of potential risks and compliance gaps with ongoing assessments that keep you informed.\n",
            "- **Streamlined Audits**: Simplify your audit preparation and reduce stress with organized, easily retrievable documentation.\n",
            "\n",
            "I would love to schedule a brief call to discuss how ComplAI can specifically support your organization in achieving and maintaining SOC 2 compliance. Are you available for a chat this week?\n",
            "\n",
            "Thank you for considering ComplAI. I look forward to the opportunity to connect.\n",
            "\n",
            "Best regards,\n",
            "\n",
            "[Your Name]  \n",
            "[Your Position]  \n",
            "ComplAI  \n",
            "[Your Phone Number]  \n",
            "[Your Email Address]  \n",
            "[Your Company Website]  \n",
            "\n",
            "\n",
            "Subject: Is Your Compliance as Tight as Your Friday Night Plans? 🎉\n",
            "\n",
            "Hey [Recipient's Name],\n",
            "\n",
            "I hope this email finds you well and not buried under a mountain of compliance paperwork! 📄\n",
            "\n",
            "I’m reaching out because I know that navigating SOC2 compliance can sometimes feel like trying to find the Wi-Fi password at a crowded coffee shop—stressful and confusing. But fear not! At ComplAI, we’ve got a SaaS tool that makes compliance feel like a walk in the park (or at least a stroll without the risk of stepping on a LEGO).\n",
            "\n",
            "Our AI-powered platform automates the heavy lifting of SOC2 compliance and audit prep, so you can focus on what really matters—like perfecting your coffee order or planning that next big office party. 🎈\n",
            "\n",
            "Want to see how we can transform your compliance chaos into a smooth jazz number? Let’s chat for a quick demo. I promise it won’t be a snooze-fest—no PowerPoint slides of cats (unless you really want that).\n",
            "\n",
            "Looking forward to hearing from you!\n",
            "\n",
            "Best,  \n",
            "[Your Name]  \n",
            "[Your Title at ComplAI]  \n",
            "[Your Phone Number]  \n",
            "[Your LinkedIn Profile]  \n",
            "\n",
            "P.S. Did I mention we make compliance so easy, it practically does your taxes? (Okay, maybe not that easy, but you get the point!) 😄\n",
            "\n",
            "\n",
            "Subject: Streamline Your SOC2 Compliance with AI\n",
            "\n",
            "Hi [Recipient's Name],\n",
            "\n",
            "I hope this message finds you well! \n",
            "\n",
            "I’m reaching out to introduce ComplAI, our AI-powered SaaS tool designed to simplify SOC2 compliance and streamline your audit preparation. \n",
            "\n",
            "With ComplAI, you can automate compliance tasks, reduce human error, and save valuable time—allowing you to focus on growing your business.\n",
            "\n",
            "Would you be open to a quick call to explore how we can assist your team in achieving seamless compliance?\n",
            "\n",
            "Best regards,  \n",
            "[Your Name]  \n",
            "[Your Position]  \n",
            "ComplAI  \n",
            "[Your Phone Number]  \n",
            "[Your LinkedIn Profile]  \n",
            "\n",
            "\n"
          ]
        }
      ],
      "source": [
        "message = \"Write a cold sales email\"\n",
        "\n",
        "with trace(\"Parallel cold emails\"):\n",
        "    # .gather is used to run the agents in parallel making multiple calls to the LLM\n",
        "    results = await asyncio.gather(\n",
        "        Runner.run(sales_agent1, message),\n",
        "        Runner.run(sales_agent2, message),\n",
        "        Runner.run(sales_agent3, message),\n",
        "    )\n",
        "\n",
        "outputs = [result.final_output for result in results] # list comprehension to get the final output of each agent\n",
        "\n",
        "for output in outputs:\n",
        "    print(output + \"\\n\\n\")\n"
      ]
    },
    {
      "cell_type": "code",
      "execution_count": null,
      "metadata": {},
      "outputs": [],
      "source": [
        "# This is a new agent that picks the best cold sales email from the given options.\n",
        "sales_picker = Agent(\n",
        "    name=\"sales_picker\",\n",
        "    instructions=\"You pick the best cold sales email from the given options. \\\n",
        "Imagine you are a customer and pick the one you are most likely to respond to. \\\n",
        "Do not give an explanation; reply with the selected email only.\", # this instruction in very important to avoid LLM hallucinations and unwanted output\n",
        "    model=\"gpt-4o-mini\"\n",
        ")"
      ]
    },
    {
      "cell_type": "code",
      "execution_count": null,
      "metadata": {},
      "outputs": [
        {
          "name": "stdout",
          "output_type": "stream",
          "text": [
            "Best sales email:\n",
            "Subject: Is Your Compliance as Cool as Your Coffee?\n",
            "\n",
            "Hey [Recipient's Name],\n",
            "\n",
            "You know that moment when you think you've got your favorite coffee order down to a science, only to be hit with a surprise flavor? That’s kind of how audits feel without the right tools—in short, sheer chaos.\n",
            "\n",
            "At ComplAI, we believe compliance shouldn't taste like burnt toast. Our AI-powered SaaS tool whips your SOC2 compliance into shape faster than you can say “audit prep,” leaving you with more time for the fun stuff—like exploring that elusive ‘work-life balance’ everyone keeps talking about.\n",
            "\n",
            "Imagine a world where audits are stress-free and your compliance checks are smoother than a freshly brewed cappuccino. ☕ Sounds dreamy, right? With ComplAI, you can enjoy that blissful state, minus the caffeine jitters.\n",
            "\n",
            "Curious about how we can brew up some compliance magic for your team? I’d love to schedule a quick chat—promise it'll be more invigorating than your morning espresso!\n",
            "\n",
            "Looking forward to your reply (with or without the coffee chat)!\n",
            "\n",
            "Cheers,  \n",
            "[Your Name]  \n",
            "[Your Position]  \n",
            "ComplAI  \n",
            "[Your Phone Number]  \n",
            "[Your Website]  \n",
            "\n",
            "P.S. No pressure, but we think you’ll be *brewing* with excitement after our chat! 😄\n"
          ]
        }
      ],
      "source": [
        "# This code will chain two agents:\n",
        "# 1. A sales agent that writes a cold sales email\n",
        "# 2. A sales picker that picks the best cold sales email from the given options\n",
        "\n",
        "# The sales picker is a new agent that picks the best cold sales email from the given options.\n",
        "# It imagines to be a customer and pick the one most likely to respond to.\n",
        "# It doesn't give an explanation; it replies with the selected email only.\n",
        "\n",
        "message = \"Write a cold sales email\"\n",
        "\n",
        "with trace(\"Selection from sales people\"):\n",
        "    results = await asyncio.gather(\n",
        "        Runner.run(sales_agent1, message),\n",
        "        Runner.run(sales_agent2, message),\n",
        "        Runner.run(sales_agent3, message),\n",
        "    )\n",
        "    outputs = [result.final_output for result in results] # list comprehension to get the final output of each agent\n",
        "\n",
        "    emails = \"Cold sales emails:\\n\\n\" + \"\\n\\nEmail:\\n\\n\".join(outputs) # join the outputs with a new line\n",
        "\n",
        "    best = await Runner.run(sales_picker, emails) # run the sales picker on the emails to select the best one from the list of the previous agents\n",
        "\n",
        "    print(f\"Best sales email:\\n{best.final_output}\") # print the best sales email\n"
      ]
    },
    {
      "cell_type": "markdown",
      "metadata": {},
      "source": [
        "Now go and check out the trace:\n",
        "\n",
        "https://platform.openai.com/traces"
      ]
    },
    {
      "cell_type": "markdown",
      "metadata": {},
      "source": [
        "## Part 2: use of tools\n",
        "\n",
        "Now we will add a tool to the mix.\n",
        "\n",
        "Remember all that json boilerplate and the `handle_tool_calls()` function with the if logic.."
      ]
    },
    {
      "cell_type": "code",
      "execution_count": 14,
      "metadata": {},
      "outputs": [],
      "source": [
        "sales_agent1 = Agent(\n",
        "        name=\"Professional Sales Agent\",\n",
        "        instructions=instructions1,\n",
        "        model=\"gpt-4o-mini\",\n",
        ")\n",
        "\n",
        "sales_agent2 = Agent(\n",
        "        name=\"Engaging Sales Agent\",\n",
        "        instructions=instructions2,\n",
        "        model=\"gpt-4o-mini\",\n",
        ")\n",
        "\n",
        "sales_agent3 = Agent(\n",
        "        name=\"Busy Sales Agent\",\n",
        "        instructions=instructions3,\n",
        "        model=\"gpt-4o-mini\",\n",
        ")"
      ]
    },
    {
      "cell_type": "code",
      "execution_count": 15,
      "metadata": {},
      "outputs": [
        {
          "data": {
            "text/plain": [
              "Agent(name='Professional Sales Agent', instructions='You are a sales agent working for ComplAI, a company that provides a SaaS tool for ensuring SOC2 compliance and preparing for audits, powered by AI. You write professional, serious cold emails.', prompt=None, handoff_description=None, handoffs=[], model='gpt-4o-mini', model_settings=ModelSettings(temperature=None, top_p=None, frequency_penalty=None, presence_penalty=None, tool_choice=None, parallel_tool_calls=None, truncation=None, max_tokens=None, reasoning=None, metadata=None, store=None, include_usage=None, extra_query=None, extra_body=None, extra_headers=None, extra_args=None), tools=[], mcp_servers=[], mcp_config={}, input_guardrails=[], output_guardrails=[], output_type=None, hooks=None, tool_use_behavior='run_llm_again', reset_tool_choice=True)"
            ]
          },
          "execution_count": 15,
          "metadata": {},
          "output_type": "execute_result"
        }
      ],
      "source": [
        "sales_agent1"
      ]
    },
    {
      "cell_type": "markdown",
      "metadata": {},
      "source": [
        "## Steps 2 and 3: Tools and Agent interactions\n",
        "\n",
        "Remember all that boilerplate json?\n",
        "\n",
        "Simply wrap your function with the decorator `@function_tool`"
      ]
    },
    {
      "cell_type": "code",
      "execution_count": 38,
      "metadata": {},
      "outputs": [],
      "source": [
        "# This is a function tool that sends an email\n",
        "\n",
        "@function_tool\n",
        "def send_email(body: str):\n",
        "    \"\"\" Send out an email with the given body to all sales prospects \"\"\"\n",
        "    sg = sendgrid.SendGridAPIClient(api_key=os.environ.get('SENDGRID_API_KEY'))\n",
        "    from_email = Email(\"ed@edwarddonner.com\")  # Change to your verified sender\n",
        "    to_email = To(\"ed.donner@gmail.com\")  # Change to your recipient\n",
        "    content = Content(\"text/plain\", body)\n",
        "    mail = Mail(from_email, to_email, \"Sales email\", content).get()\n",
        "    sg.client.mail.send.post(request_body=mail)\n",
        "    return {\"status\": \"success\"}"
      ]
    },
    {
      "cell_type": "code",
      "execution_count": null,
      "metadata": {},
      "outputs": [],
      "source": [
        "# This is a function tool that sends a Pushover notification - Alternative solution to Sendgrid\n",
        "\n",
        "# @function_tool # decorator to make the function a function tool\n",
        "# def send_pushover(body: str):\n",
        "#     \"\"\" Send out a Pushover notification with the given message \"\"\"\n",
        "#     payload = {\"user\": pushover_user, \"token\": pushover_token, \"message\": body}\n",
        "#     requests.post(pushover_url, data=payload)\n",
        "#     return {\"status\": \"success\"}"
      ]
    },
    {
      "cell_type": "markdown",
      "metadata": {},
      "source": [
        "### This has automatically been converted into a tool, with the boilerplate json created"
      ]
    },
    {
      "cell_type": "code",
      "execution_count": 39,
      "metadata": {},
      "outputs": [
        {
          "data": {
            "text/plain": [
              "FunctionTool(name='send_email', description='Send out an email with the given body to all sales prospects', params_json_schema={'properties': {'body': {'title': 'Body', 'type': 'string'}}, 'required': ['body'], 'title': 'send_email_args', 'type': 'object', 'additionalProperties': False}, on_invoke_tool=<function function_tool.<locals>._create_function_tool.<locals>._on_invoke_tool at 0x115f151c0>, strict_json_schema=True, is_enabled=True)"
            ]
          },
          "execution_count": 39,
          "metadata": {},
          "output_type": "execute_result"
        }
      ],
      "source": [
        "# Let's look at it\n",
        "send_email\n",
        "\n",
        "# IMPORTANT: since we have added @function_tool decorator, we can now use the function as a tool in the agent"
      ]
    },
    {
      "cell_type": "markdown",
      "metadata": {},
      "source": [
        "### And you can also convert an Agent into a tool"
      ]
    },
    {
      "cell_type": "code",
      "execution_count": 40,
      "metadata": {},
      "outputs": [
        {
          "data": {
            "text/plain": [
              "FunctionTool(name='sales_agent1', description='Write a cold sales email', params_json_schema={'properties': {'input': {'title': 'Input', 'type': 'string'}}, 'required': ['input'], 'title': 'sales_agent1_args', 'type': 'object', 'additionalProperties': False}, on_invoke_tool=<function function_tool.<locals>._create_function_tool.<locals>._on_invoke_tool at 0x115516480>, strict_json_schema=True, is_enabled=True)"
            ]
          },
          "execution_count": 40,
          "metadata": {},
          "output_type": "execute_result"
        }
      ],
      "source": [
        "tool1 = sales_agent1.as_tool(tool_name=\"sales_agent1\", tool_description=\"Write a cold sales email\")\n",
        "tool1"
      ]
    },
    {
      "cell_type": "markdown",
      "metadata": {},
      "source": [
        "### So now we can gather all the tools together:\n",
        "\n",
        "A tool for each of our 3 email-writing agents\n",
        "\n",
        "And a tool for our function to send emails"
      ]
    },
    {
      "cell_type": "code",
      "execution_count": 41,
      "metadata": {},
      "outputs": [
        {
          "data": {
            "text/plain": [
              "[FunctionTool(name='sales_agent1', description='Write a cold sales email', params_json_schema={'properties': {'input': {'title': 'Input', 'type': 'string'}}, 'required': ['input'], 'title': 'sales_agent1_args', 'type': 'object', 'additionalProperties': False}, on_invoke_tool=<function function_tool.<locals>._create_function_tool.<locals>._on_invoke_tool at 0x115517e20>, strict_json_schema=True, is_enabled=True),\n",
              " FunctionTool(name='sales_agent2', description='Write a cold sales email', params_json_schema={'properties': {'input': {'title': 'Input', 'type': 'string'}}, 'required': ['input'], 'title': 'sales_agent2_args', 'type': 'object', 'additionalProperties': False}, on_invoke_tool=<function function_tool.<locals>._create_function_tool.<locals>._on_invoke_tool at 0x115f15f80>, strict_json_schema=True, is_enabled=True),\n",
              " FunctionTool(name='sales_agent3', description='Write a cold sales email', params_json_schema={'properties': {'input': {'title': 'Input', 'type': 'string'}}, 'required': ['input'], 'title': 'sales_agent3_args', 'type': 'object', 'additionalProperties': False}, on_invoke_tool=<function function_tool.<locals>._create_function_tool.<locals>._on_invoke_tool at 0x11584cf40>, strict_json_schema=True, is_enabled=True),\n",
              " FunctionTool(name='send_email', description='Send out an email with the given body to all sales prospects', params_json_schema={'properties': {'body': {'title': 'Body', 'type': 'string'}}, 'required': ['body'], 'title': 'send_email_args', 'type': 'object', 'additionalProperties': False}, on_invoke_tool=<function function_tool.<locals>._create_function_tool.<locals>._on_invoke_tool at 0x115f151c0>, strict_json_schema=True, is_enabled=True)]"
            ]
          },
          "execution_count": 41,
          "metadata": {},
          "output_type": "execute_result"
        }
      ],
      "source": [
        "description = \"Write a cold sales email\"\n",
        "\n",
        "tool1 = sales_agent1.as_tool(tool_name=\"sales_agent1\", tool_description=description)\n",
        "tool2 = sales_agent2.as_tool(tool_name=\"sales_agent2\", tool_description=description)\n",
        "tool3 = sales_agent3.as_tool(tool_name=\"sales_agent3\", tool_description=description)\n",
        "\n",
        "tools = [tool1, tool2, tool3, send_email]\n",
        "\n",
        "tools"
      ]
    },
    {
      "cell_type": "markdown",
      "metadata": {},
      "source": [
        "## And now it's time for our Sales Manager - our planning agent"
      ]
    },
    {
      "cell_type": "code",
      "execution_count": null,
      "metadata": {},
      "outputs": [],
      "source": [
        "# Improved instructions thanks to student Guillermo F.\n",
        "\n",
        "instructions = \"\"\"\n",
        "You are a Sales Manager at ComplAI. Your goal is to find the single best cold sales email using the sales_agent tools.\n",
        " \n",
        "Follow these steps carefully:\n",
        "1. Generate Drafts: Use all three sales_agent tools to generate three different email drafts. Do not proceed until all three drafts are ready.\n",
        " \n",
        "2. Evaluate and Select: Review the drafts and choose the single best email using your judgment of which one is most effective.\n",
        " \n",
        "3. Use the send_email tool to send the best email (and only the best email) to the user.\n",
        " \n",
        "Crucial Rules:\n",
        "- You must use the sales agent tools to generate the drafts — do not write them yourself.\n",
        "- You must send ONE email using the send_email tool — never more than one.\n",
        "\"\"\"\n",
        "\n",
        "# VERY IMPORTANT: here we create a sales manager agent that will use the tools to generate the best cold sales email\n",
        "# The agent is crated with a name, instructions, tools and model to use\n",
        "# This way this agent will be able to follow the instruction and use the tools to generate the best cold sales email\n",
        "sales_manager = Agent(name=\"Sales Manager\", instructions=instructions, tools=tools, model=\"gpt-4o-mini\")\n",
        "\n",
        "message = \"Send a cold sales email addressed to 'Dear CEO'\"\n",
        "\n",
        "with trace(\"Sales manager\"):\n",
        "    result = await Runner.run(sales_manager, message)\n"
      ]
    },
    {
      "cell_type": "markdown",
      "metadata": {},
      "source": [
        "<table style=\"margin: 0; text-align: left; width:100%\">\n",
        "    <tr>\n",
        "        <td style=\"width: 150px; height: 150px; vertical-align: middle;\">\n",
        "            <img src=\"../assets/stop.png\" width=\"150\" height=\"150\" style=\"display: block;\" />\n",
        "        </td>\n",
        "        <td>\n",
        "            <h2 style=\"color:#ff7800;\">Wait - you didn't get an email??</h2>\n",
        "            <span style=\"color:#ff7800;\">With much thanks to student Chris S. for describing his issue and fixes. \n",
        "            If you don't receive an email after running the prior cell, here are some things to check: <br/>\n",
        "            First, check your Spam folder! Several students have missed that the emails arrived in Spam!<br/>Second, print(result) and see if you are receiving errors about SSL. \n",
        "            If you're receiving SSL errors, then please check out theses <a href=\"https://chatgpt.com/share/680620ec-3b30-8012-8c26-ca86693d0e3d\">networking tips</a> and see the note in the next cell. Also look at the trace in OpenAI, and investigate on the SendGrid website, to hunt for clues. Let me know if I can help!\n",
        "            </span>\n",
        "        </td>\n",
        "    </tr>\n",
        "</table>"
      ]
    },
    {
      "cell_type": "markdown",
      "metadata": {},
      "source": [
        "### And one more suggestion to send emails from student Oleksandr on Windows 11:\n",
        "\n",
        "If you are getting certificate SSL errors, then:  \n",
        "Run this in a terminal: `uv pip install --upgrade certifi`\n",
        "\n",
        "Then run this code:\n",
        "```python\n",
        "import certifi\n",
        "import os\n",
        "os.environ['SSL_CERT_FILE'] = certifi.where()\n",
        "```\n",
        "\n",
        "Thank you Oleksandr!"
      ]
    },
    {
      "cell_type": "markdown",
      "metadata": {},
      "source": [
        "## Remember to check the trace\n",
        "\n",
        "https://platform.openai.com/traces\n",
        "\n",
        "And then check your email!!\n"
      ]
    },
    {
      "cell_type": "markdown",
      "metadata": {},
      "source": [
        "### Handoffs represent a way an agent can delegate to an agent, passing control to it\n",
        "\n",
        "Handoffs and Agents-as-tools are similar:\n",
        "\n",
        "In both cases, an Agent can collaborate with another Agent\n",
        "\n",
        "With tools, control passes back\n",
        "\n",
        "With handoffs, control passes across\n",
        "\n"
      ]
    },
    {
      "cell_type": "code",
      "execution_count": 51,
      "metadata": {},
      "outputs": [],
      "source": [
        "\n",
        "subject_instructions = \"You can write a subject for a cold sales email. \\\n",
        "You are given a message and you need to write a subject for an email that is likely to get a response.\"\n",
        "\n",
        "html_instructions = \"You can convert a text email body to an HTML email body. \\\n",
        "You are given a text email body which might have some markdown \\\n",
        "and you need to convert it to an HTML email body with simple, clear, compelling layout and design.\"\n",
        "\n",
        "subject_writer = Agent(name=\"Email subject writer\", instructions=subject_instructions, model=\"gpt-4o-mini\")\n",
        "subject_tool = subject_writer.as_tool(tool_name=\"subject_writer\", tool_description=\"Write a subject for a cold sales email\")\n",
        "\n",
        "html_converter = Agent(name=\"HTML email body converter\", instructions=html_instructions, model=\"gpt-4o-mini\")\n",
        "html_tool = html_converter.as_tool(tool_name=\"html_converter\",tool_description=\"Convert a text email body to an HTML email body\")\n"
      ]
    },
    {
      "cell_type": "code",
      "execution_count": 52,
      "metadata": {},
      "outputs": [],
      "source": [
        "@function_tool\n",
        "def send_html_email(subject: str, html_body: str) -> Dict[str, str]:\n",
        "    \"\"\" Send out an email with the given subject and HTML body to all sales prospects \"\"\"\n",
        "    sg = sendgrid.SendGridAPIClient(api_key=os.environ.get('SENDGRID_API_KEY'))\n",
        "    from_email = Email(\"federico.tognetti@gmail.com\")  # Change to your verified sender\n",
        "    to_email = To(\"federico.tognetti@gmail.com\")  # Change to your recipient\n",
        "    content = Content(\"text/html\", html_body)\n",
        "    mail = Mail(from_email, to_email, subject, content).get()\n",
        "    sg.client.mail.send.post(request_body=mail)\n",
        "    return {\"status\": \"success\"}\n",
        "\n",
        "# Since Sendgrid is not working, we can use the function tool to send a Pushover notification\n",
        "\n",
        "# @function_tool\n",
        "# def send_pushover(message: str) -> Dict[str, str]:\n",
        "#     \"\"\" Send out a Pushover notification with the given message \"\"\"\n",
        "#     payload = {\"user\": pushover_user, \"token\": pushover_token, \"message\": message}\n",
        "#     requests.post(pushover_url, data=payload)\n",
        "#     return {\"status\": \"success\"}"
      ]
    },
    {
      "cell_type": "code",
      "execution_count": 53,
      "metadata": {},
      "outputs": [],
      "source": [
        "tools = [subject_tool, html_tool, send_html_email]"
      ]
    },
    {
      "cell_type": "code",
      "execution_count": 47,
      "metadata": {},
      "outputs": [
        {
          "data": {
            "text/plain": [
              "[FunctionTool(name='subject_writer', description='Write a subject for a cold sales email', params_json_schema={'properties': {'input': {'title': 'Input', 'type': 'string'}}, 'required': ['input'], 'title': 'subject_writer_args', 'type': 'object', 'additionalProperties': False}, on_invoke_tool=<function function_tool.<locals>._create_function_tool.<locals>._on_invoke_tool at 0x115f16840>, strict_json_schema=True, is_enabled=True),\n",
              " FunctionTool(name='html_converter', description='Convert a text email body to an HTML email body', params_json_schema={'properties': {'input': {'title': 'Input', 'type': 'string'}}, 'required': ['input'], 'title': 'html_converter_args', 'type': 'object', 'additionalProperties': False}, on_invoke_tool=<function function_tool.<locals>._create_function_tool.<locals>._on_invoke_tool at 0x115f16c00>, strict_json_schema=True, is_enabled=True),\n",
              " FunctionTool(name='send_html_email', description='Send out an email with the given subject and HTML body to all sales prospects', params_json_schema={'properties': {'subject': {'title': 'Subject', 'type': 'string'}, 'html_body': {'title': 'Html Body', 'type': 'string'}}, 'required': ['subject', 'html_body'], 'title': 'send_html_email_args', 'type': 'object', 'additionalProperties': False}, on_invoke_tool=<function function_tool.<locals>._create_function_tool.<locals>._on_invoke_tool at 0x114f628e0>, strict_json_schema=True, is_enabled=True)]"
            ]
          },
          "execution_count": 47,
          "metadata": {},
          "output_type": "execute_result"
        }
      ],
      "source": [
        "tools"
      ]
    },
    {
      "cell_type": "code",
      "execution_count": 54,
      "metadata": {},
      "outputs": [],
      "source": [
        "instructions =\"You are an email formatter and sender. You receive the body of an email to be sent. \\\n",
        "You first use the subject_writer tool to write a subject for the email, then use the html_converter tool to convert the body to HTML. \\\n",
        "Finally, you use the send_html_email tool to send the email with the subject and HTML body.\"\n",
        "\n",
        "\n",
        "emailer_agent = Agent(\n",
        "    name=\"Email Manager\",\n",
        "    instructions=instructions,\n",
        "    tools=tools,\n",
        "    model=\"gpt-4o-mini\",\n",
        "    # Description that will be shown to other agents when they hand off (delegate) work to this agent\n",
        "    handoff_description=\"Convert an email to HTML and send it\") \n",
        "\n",
        "# IMPORTANT: this handoff agent as 3 tools: subject_writer, html_converter and send_pushover"
      ]
    },
    {
      "cell_type": "markdown",
      "metadata": {},
      "source": [
        "### Now we have 3 tools and 1 handoff"
      ]
    },
    {
      "cell_type": "code",
      "execution_count": 55,
      "metadata": {},
      "outputs": [
        {
          "name": "stdout",
          "output_type": "stream",
          "text": [
            "[FunctionTool(name='sales_agent1', description='Write a cold sales email', params_json_schema={'properties': {'input': {'title': 'Input', 'type': 'string'}}, 'required': ['input'], 'title': 'sales_agent1_args', 'type': 'object', 'additionalProperties': False}, on_invoke_tool=<function function_tool.<locals>._create_function_tool.<locals>._on_invoke_tool at 0x115517e20>, strict_json_schema=True, is_enabled=True), FunctionTool(name='sales_agent2', description='Write a cold sales email', params_json_schema={'properties': {'input': {'title': 'Input', 'type': 'string'}}, 'required': ['input'], 'title': 'sales_agent2_args', 'type': 'object', 'additionalProperties': False}, on_invoke_tool=<function function_tool.<locals>._create_function_tool.<locals>._on_invoke_tool at 0x115f15f80>, strict_json_schema=True, is_enabled=True), FunctionTool(name='sales_agent3', description='Write a cold sales email', params_json_schema={'properties': {'input': {'title': 'Input', 'type': 'string'}}, 'required': ['input'], 'title': 'sales_agent3_args', 'type': 'object', 'additionalProperties': False}, on_invoke_tool=<function function_tool.<locals>._create_function_tool.<locals>._on_invoke_tool at 0x11584cf40>, strict_json_schema=True, is_enabled=True)]\n",
            "[Agent(name='Email Manager', instructions='You are an email formatter and sender. You receive the body of an email to be sent. You first use the subject_writer tool to write a subject for the email, then use the html_converter tool to convert the body to HTML. Finally, you use the send_html_email tool to send the email with the subject and HTML body.', prompt=None, handoff_description='Convert an email to HTML and send it', handoffs=[], model='gpt-4o-mini', model_settings=ModelSettings(temperature=None, top_p=None, frequency_penalty=None, presence_penalty=None, tool_choice=None, parallel_tool_calls=None, truncation=None, max_tokens=None, reasoning=None, metadata=None, store=None, include_usage=None, extra_query=None, extra_body=None, extra_headers=None, extra_args=None), tools=[FunctionTool(name='subject_writer', description='Write a subject for a cold sales email', params_json_schema={'properties': {'input': {'title': 'Input', 'type': 'string'}}, 'required': ['input'], 'title': 'subject_writer_args', 'type': 'object', 'additionalProperties': False}, on_invoke_tool=<function function_tool.<locals>._create_function_tool.<locals>._on_invoke_tool at 0x115f6c900>, strict_json_schema=True, is_enabled=True), FunctionTool(name='html_converter', description='Convert a text email body to an HTML email body', params_json_schema={'properties': {'input': {'title': 'Input', 'type': 'string'}}, 'required': ['input'], 'title': 'html_converter_args', 'type': 'object', 'additionalProperties': False}, on_invoke_tool=<function function_tool.<locals>._create_function_tool.<locals>._on_invoke_tool at 0x115f6d800>, strict_json_schema=True, is_enabled=True), FunctionTool(name='send_html_email', description='Send out an email with the given subject and HTML body to all sales prospects', params_json_schema={'properties': {'subject': {'title': 'Subject', 'type': 'string'}, 'html_body': {'title': 'Html Body', 'type': 'string'}}, 'required': ['subject', 'html_body'], 'title': 'send_html_email_args', 'type': 'object', 'additionalProperties': False}, on_invoke_tool=<function function_tool.<locals>._create_function_tool.<locals>._on_invoke_tool at 0x1155165c0>, strict_json_schema=True, is_enabled=True)], mcp_servers=[], mcp_config={}, input_guardrails=[], output_guardrails=[], output_type=None, hooks=None, tool_use_behavior='run_llm_again', reset_tool_choice=True)]\n"
          ]
        }
      ],
      "source": [
        "tools = [tool1, tool2, tool3]\n",
        "handoffs = [emailer_agent]\n",
        "print(tools)\n",
        "print(handoffs)"
      ]
    },
    {
      "cell_type": "code",
      "execution_count": 56,
      "metadata": {},
      "outputs": [],
      "source": [
        "# Improved instructions thanks to student Guillermo F.\n",
        "\n",
        "sales_manager_instructions = \"\"\"\n",
        "You are a Sales Manager at ComplAI. Your goal is to find the single best cold sales email using the sales_agent tools.\n",
        " \n",
        "Follow these steps carefully:\n",
        "1. Generate Drafts: Use all three sales_agent tools to generate three different email drafts. Do not proceed until all three drafts are ready.\n",
        " \n",
        "2. Evaluate and Select: Review the drafts and choose the single best email using your judgment of which one is most effective.\n",
        "You can use the tools multiple times if you're not satisfied with the results from the first try.\n",
        " \n",
        "3. Handoff for Sending: Pass ONLY the winning email draft to the 'Email Manager' agent. The Email Manager will take care of formatting and sending.\n",
        " \n",
        "Crucial Rules:\n",
        "- You must use the sales agent tools to generate the drafts — do not write them yourself.\n",
        "- You must hand off exactly ONE email to the Email Manager — never more than one.\n",
        "\"\"\"\n",
        "\n",
        "\n",
        "sales_manager = Agent(\n",
        "    name=\"Sales Manager\",\n",
        "    instructions=sales_manager_instructions,\n",
        "    tools=tools,\n",
        "    handoffs=handoffs,\n",
        "    model=\"gpt-4o-mini\")\n",
        "\n",
        "message = \"Send out a cold sales email addressed to Dear CEO from Alice\"\n",
        "\n",
        "with trace(\"Automated SDR\"):\n",
        "    result = await Runner.run(sales_manager, message)"
      ]
    },
    {
      "cell_type": "markdown",
      "metadata": {},
      "source": [
        "### Remember to check the trace\n",
        "\n",
        "https://platform.openai.com/traces\n",
        "\n",
        "And then check your email!!"
      ]
    },
    {
      "cell_type": "markdown",
      "metadata": {},
      "source": [
        "<table style=\"margin: 0; text-align: left; width:100%\">\n",
        "    <tr>\n",
        "        <td style=\"width: 150px; height: 150px; vertical-align: middle;\">\n",
        "            <img src=\"../assets/exercise.png\" width=\"150\" height=\"150\" style=\"display: block;\" />\n",
        "        </td>\n",
        "        <td>\n",
        "            <h2 style=\"color:#ff7800;\">Exercise</h2>\n",
        "            <span style=\"color:#ff7800;\">Can you identify the Agentic design patterns that were used here?<br/>\n",
        "            What is the 1 line that changed this from being an Agentic \"workflow\" to \"agent\" under Anthropic's definition?<br/>\n",
        "            Try adding in more tools and Agents! You could have tools that handle the mail merge to send to a list.<br/><br/>\n",
        "            HARD CHALLENGE: research how you can have SendGrid call a Callback webhook when a user replies to an email,\n",
        "            Then have the SDR respond to keep the conversation going! This may require some \"vibe coding\" 😂\n",
        "            </span>\n",
        "        </td>\n",
        "    </tr>\n",
        "</table>"
      ]
    },
    {
      "cell_type": "markdown",
      "metadata": {},
      "source": [
        "## Anwer to question 1\n",
        "The line that changed it from being an Agentic \"workflow\" is that we used a primary agent the possibility to use tools (other agents as tools) and one handof to decide how to better accomplish the task without using code to define individual tasks to be accomplished in sequence."
      ]
    },
    {
      "cell_type": "markdown",
      "metadata": {},
      "source": [
        "<table style=\"margin: 0; text-align: left; width:100%\">\n",
        "    <tr>\n",
        "        <td style=\"width: 150px; height: 150px; vertical-align: middle;\">\n",
        "            <img src=\"../assets/business.png\" width=\"150\" height=\"150\" style=\"display: block;\" />\n",
        "        </td>\n",
        "        <td>\n",
        "            <h2 style=\"color:#00bfff;\">Commercial implications</h2>\n",
        "            <span style=\"color:#00bfff;\">This is immediately applicable to Sales Automation; but more generally this could be applied to  end-to-end automation of any business process through conversations and tools. Think of ways you could apply an Agent solution\n",
        "            like this in your day job.\n",
        "            </span>\n",
        "        </td>\n",
        "    </tr>\n",
        "</table>"
      ]
    },
    {
      "cell_type": "markdown",
      "metadata": {},
      "source": [
        "## Answer to commercial implications\n",
        "The best commercial implication are: \n",
        "* Selena AI to help financial advisor better accoplish their tasks saving time and making more money\n",
        "* Domus revita to evaluate which potential house restructuring can have best potential and returns. Using AI Agents can speed up the initial instructorial phase"
      ]
    },
    {
      "cell_type": "markdown",
      "metadata": {},
      "source": [
        "## Extra note:\n",
        "\n",
        "Google has released their Agent Development Kit (ADK). It's not yet got the traction of the other frameworks on this course, but it's getting some attention. It's interesting to note that it looks quite similar to OpenAI Agents SDK. To give you a preview, here's a peak at sample code from ADK:\n",
        "\n",
        "```\n",
        "root_agent = Agent(\n",
        "    name=\"weather_time_agent\",\n",
        "    model=\"gemini-2.0-flash\",\n",
        "    description=\"Agent to answer questions about the time and weather in a city.\",\n",
        "    instruction=\"You are a helpful agent who can answer user questions about the time and weather in a city.\",\n",
        "    tools=[get_weather, get_current_time]\n",
        ")\n",
        "```\n",
        "\n",
        "Well, that looks familiar!\n",
        "\n",
        "And a student has contributed a customer care agent in community_contributions that uses ADK."
      ]
    },
    {
      "cell_type": "markdown",
      "metadata": {},
      "source": []
    },
    {
      "cell_type": "code",
      "execution_count": 72,
      "metadata": {},
      "outputs": [
        {
          "data": {
            "text/plain": [
              "FunctionTool(name='create_advertising', description='Create an advertising for an house requalification project', params_json_schema={'properties': {'input': {'title': 'Input', 'type': 'string'}}, 'required': ['input'], 'title': 'create_advertising_args', 'type': 'object', 'additionalProperties': False}, on_invoke_tool=<function function_tool.<locals>._create_function_tool.<locals>._on_invoke_tool at 0x1164fc720>, strict_json_schema=True, is_enabled=True)"
            ]
          },
          "execution_count": 72,
          "metadata": {},
          "output_type": "execute_result"
        }
      ],
      "source": [
        "# Excercise create an agent that evaluate the create an advertising for an house requalification project\n",
        "\n",
        "copywriter_instructions = \"\"\"\n",
        "You are a copywriter that creates an advertising for an house requalification project with enthusiastic and compelling tone.\n",
        "This advertising is aimed to owner of big old houses in central or qualitative areas of the city.\n",
        "The owner is probably strugling to sell the house as it is since it's not in a good condition an a lot of money is needed to requalify it.\n",
        "You must explain that our team has very qualified architects and contractors that can help you to requalify your house.\n",
        "The old big house will be partitioned in two housing units and completelly restructured.\n",
        "One will be sold by our team and one will remain as payment to the owner that will have a new requalified house to sell, rent or live in.\n",
        "IMPORTANT: generate the advertising in italian using max 200 words.\n",
        "\"\"\"\n",
        "\n",
        "copywriter = Agent(\n",
        "    name=\"Copywriter\",\n",
        "    instructions=copywriter_instructions,\n",
        "    model=\"gpt-4o-mini\"\n",
        ")\n",
        "\n",
        "copywriter_tool = copywriter.as_tool(tool_name=\"create_advertising\", tool_description=\"Create an advertising for an house requalification project\")\n",
        "\n",
        "# Let's look at it\n",
        "copywriter_tool"
      ]
    },
    {
      "cell_type": "code",
      "execution_count": 73,
      "metadata": {},
      "outputs": [
        {
          "name": "stdout",
          "output_type": "stream",
          "text": [
            "### Trasforma la tua casa in un capolavoro!\n",
            "\n",
            "Possiedi una grande casa d'epoca nel cuore della città ma fatichi a venderla? La soluzione è a portata di mano! Il nostro progetto di riqualificazione è pensato per te. Con un team di architetti e contractor altamente qualificati, trasformeremo la tua dimora in un gioiello irresistibile.\n",
            "\n",
            "Ridimensioneremo la tua casa in due unità abitative completamente ristrutturate: una sarà venduta dal nostro team e l'altra rimarrà a te. Avrai una nuova casa rinnovata che potrai vendere, affittare o semplicemente vivere!\n",
            "\n",
            "Non lasciare che la tua proprietà continui a perdere valore. Siamo qui per aiutarti a ottenere il massimo dal tuo investimento, aumentando il comfort, l'efficienza energetica e, soprattutto, il valore del tuo immobile.\n",
            "\n",
            "Contattaci oggi stesso per scoprire come possiamo trasformare il tuo sogno in realtà. Il tuo futuro inizia qui!\n"
          ]
        }
      ],
      "source": [
        "tools = [copywriter_tool]\n",
        "\n",
        "advertiser_instructions = \"\"\"\n",
        "Use the tools to create an advertising for an house requalification project.\n",
        "IMPORTANT: use the tools to create the advertising. DO NOT write the advertising yourself.\n",
        "\"\"\"\n",
        "\n",
        "advertiser = Agent(\n",
        "    name=\"Advertiser\",\n",
        "    instructions=advertiser_instructions,\n",
        "    tools=tools,\n",
        "    model=\"gpt-4o-mini\"\n",
        ")\n",
        "\n",
        "message = \"Create an advertising for an house requalification project\"\n",
        "\n",
        "with trace(\"Automated SDR\"):\n",
        "    result = await Runner.run(advertiser, message)\n",
        "\n",
        "print(result.final_output)"
      ]
    },
    {
      "cell_type": "code",
      "execution_count": null,
      "metadata": {},
      "outputs": [],
      "source": []
    }
  ],
  "metadata": {
    "kernelspec": {
      "display_name": ".venv",
      "language": "python",
      "name": "python3"
    },
    "language_info": {
      "codemirror_mode": {
        "name": "ipython",
        "version": 3
      },
      "file_extension": ".py",
      "mimetype": "text/x-python",
      "name": "python",
      "nbconvert_exporter": "python",
      "pygments_lexer": "ipython3",
      "version": "3.12.4"
    }
  },
  "nbformat": 4,
  "nbformat_minor": 2
}
