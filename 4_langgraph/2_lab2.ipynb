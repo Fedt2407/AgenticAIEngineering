{
 "cells": [
  {
   "cell_type": "markdown",
   "metadata": {},
   "source": [
    "### And welcome to Week 4, Day 3 - more LangGraph.."
   ]
  },
  {
   "cell_type": "code",
   "execution_count": 4,
   "metadata": {},
   "outputs": [],
   "source": [
    "from typing import Annotated\n",
    "from langgraph.graph import StateGraph, START\n",
    "from langgraph.graph.message import add_messages\n",
    "from dotenv import load_dotenv\n",
    "from IPython.display import Image, display\n",
    "import gradio as gr\n",
    "from langgraph.prebuilt import ToolNode, tools_condition\n",
    "import requests\n",
    "import os\n",
    "from langchain_openai import ChatOpenAI\n",
    "from typing import TypedDict\n"
   ]
  },
  {
   "cell_type": "code",
   "execution_count": 5,
   "metadata": {},
   "outputs": [
    {
     "data": {
      "text/plain": [
       "True"
      ]
     },
     "execution_count": 5,
     "metadata": {},
     "output_type": "execute_result"
    }
   ],
   "source": [
    "# Our favorite first step! Crew was doing this for us, by the way.\n",
    "load_dotenv(override=True)\n"
   ]
  },
  {
   "cell_type": "markdown",
   "metadata": {},
   "source": [
    "### First, let's go set up LangSmith!\n",
    "\n",
    "https://langsmith.com"
   ]
  },
  {
   "cell_type": "markdown",
   "metadata": {},
   "source": [
    "### Next, here is a useful function in LangChain community:"
   ]
  },
  {
   "cell_type": "code",
   "execution_count": 6,
   "metadata": {},
   "outputs": [
    {
     "data": {
      "text/plain": [
       "'Paris is the capital and largest city of France, with an estimated city population of 2,048,472 in an area of 105.4 km2 (40.7 sq mi), and a metropolitan ... Paris is the capital and most populous city of France. Situated on the Seine River, in the north of the country, it is in the centre of the Île-de-France ... Paris is the capital of France, the largest country of Europe with 550 000 km2 (65 millions inhabitants). Paris has 2.234 million inhabitants end 2011. Paris, city and capital of France, located along the Seine River, in the north-central part of the country. Paris is one of the world\\'s most ... Paris is the city of romance par excellence, the fashion capital and the best example of French art de vivre. Exploring Paris is an essential rite of passage ... The capital of France has been Paris since its liberation in 1944. Paris, the capital and largest city of France, is located in the northern part of the country on the banks of the Seine River. Paris, the capital of France, is often referred to as the \"City of Light\" and is renowned for its art, culture, and history. Paris is the capital city of France and a cultural and culinary hub. In 2024 it played host to its third Olympic Games. Paris, situated on the river Seine ... NARRATOR: The Eiffel Tower is the best-known symbol of Paris, the capital of France. Paris is an important center for business and culture ...'"
      ]
     },
     "execution_count": 6,
     "metadata": {},
     "output_type": "execute_result"
    }
   ],
   "source": [
    "from langchain_community.utilities import GoogleSerperAPIWrapper\n",
    "# This is a utility function from langchain community\n",
    "# IMPORTANT: a wrapper function encapsulate a complex logic to provide a simple use of different services.\n",
    "# It's very useful in the agents architecture\n",
    "\n",
    "serper = GoogleSerperAPIWrapper()\n",
    "serper.run(\"What is the capital of France?\")"
   ]
  },
  {
   "cell_type": "markdown",
   "metadata": {},
   "source": [
    "### Now here is a LangChain wrapper class for converting functions into Tools"
   ]
  },
  {
   "cell_type": "code",
   "execution_count": 7,
   "metadata": {},
   "outputs": [],
   "source": [
    "from langchain.agents import Tool\n",
    "\n",
    "tool_search =Tool(\n",
    "        name=\"search\",\n",
    "        func=serper.run,\n",
    "        description=\"Useful for when you need more information from an online search\"\n",
    "    )\n",
    "\n",
    "# IMPORTANT: with this achitecture we can wrap the serper.run wrapper into a Tool wrapper to easily transform the Serper wrapper into a tool\n",
    "# This approach allow to create automatically the JSON schema"
   ]
  },
  {
   "cell_type": "markdown",
   "metadata": {},
   "source": [
    "### Now we can try out the tool the langchain way"
   ]
  },
  {
   "cell_type": "code",
   "execution_count": 8,
   "metadata": {},
   "outputs": [
    {
     "data": {
      "text/plain": [
       "\"Paris is the capital and largest city of France, with an estimated city population of 2,048,472 in an area of 105.4 km2 (40.7 sq mi), and a metropolitan ... Paris is the capital and most populous city of France. Situated on the Seine River, in the north of the country, it is in the centre of the Île-de-France ... Paris is the capital of France, the largest country of Europe with 550 000 km2 (65 millions inhabitants). Paris has 2.234 million inhabitants end 2011. Paris, city and capital of France, located along the Seine River, in the north-central part of the country. Paris is one of the world's most ... The capital of France has been Paris since its liberation in 1944. It is home to iconic landmarks like the Eiffel Tower, Notre-Dame Cathedral, and the Louvre Museum, which houses the famous Mona Lisa. Known for ... Paris , the capital and largest city of France, is located in the northern part of the country on the banks of the Seine River . Paris is the city of romance par excellence, the fashion capital and the best example of French art de vivre. Paris Capital City Of France In 4K Ultra HD Video | Paris, France Capital And Largest City | Paris Is A Major European City And A Global ... Paris is the capital city of France and a cultural and culinary hub. In 2024 it played host to its third Olympic Games. Paris, situated on the river Seine ...\""
      ]
     },
     "execution_count": 8,
     "metadata": {},
     "output_type": "execute_result"
    }
   ],
   "source": [
    "tool_search.invoke(\"What is the capital of France?\")\n",
    "# With this approach we can invoke the tool"
   ]
  },
  {
   "cell_type": "markdown",
   "metadata": {},
   "source": [
    "### And now let's write a tool ourselves\n",
    "\n",
    "We'll pick a familiar one"
   ]
  },
  {
   "cell_type": "code",
   "execution_count": 9,
   "metadata": {},
   "outputs": [],
   "source": [
    "pushover_token = os.getenv(\"PUSHOVER_TOKEN\")\n",
    "pushover_user = os.getenv(\"PUSHOVER_USER\")\n",
    "pushover_url = \"https://api.pushover.net/1/messages.json\"\n",
    "\n",
    "def push(text: str):\n",
    "    \"\"\"Send a push notification to the user\"\"\"\n",
    "    requests.post(pushover_url, data = {\"token\": pushover_token, \"user\": pushover_user, \"message\": text})"
   ]
  },
  {
   "cell_type": "code",
   "execution_count": 10,
   "metadata": {},
   "outputs": [],
   "source": [
    "# NB: once created the push funciton we transform it in a tool by using the Tool wrapper as done before with serper\n",
    "tool_push = Tool(\n",
    "        name=\"send_push_notification\",\n",
    "        func=push,\n",
    "        description=\"useful for when you want to send a push notification\"\n",
    "    )\n",
    "\n",
    "tool_push.invoke(\"Hello, me\")"
   ]
  },
  {
   "cell_type": "markdown",
   "metadata": {},
   "source": [
    "### Back to the Graph from yesterday\n",
    "\n",
    "One small change - using TypedDict instead of BaseModel for the State object\n",
    "\n",
    "When we implement tools, we always need to make 2 changes to the code:\n",
    "\n",
    "1. Changes to provide the tools to OpenAI in json when we make the call\n",
    "\n",
    "2. Changes to handle the results back: look for the model staying that the finish_reason==\"tool_calls\" and then retrieve the call, run the function, provide the results.\n",
    "\n",
    "NOTE: in the first week we used globals() to access the tool functions by name in the global environment."
   ]
  },
  {
   "cell_type": "markdown",
   "metadata": {},
   "source": [
    "### Bring them together"
   ]
  },
  {
   "cell_type": "code",
   "execution_count": 11,
   "metadata": {},
   "outputs": [],
   "source": [
    "# Here we create the list of tools to be passed to the agent\n",
    "tools = [tool_search, tool_push]"
   ]
  },
  {
   "cell_type": "code",
   "execution_count": 12,
   "metadata": {},
   "outputs": [],
   "source": [
    "# Step 1: Define the State object\n",
    "# To be noted: we're using TypeDict instead of BaseModel.\n",
    "# The syntax is the same, we still use Annotated and the reducer function \"add_messages\"\n",
    "class State(TypedDict):\n",
    "    messages: Annotated[list, add_messages]"
   ]
  },
  {
   "cell_type": "code",
   "execution_count": 13,
   "metadata": {},
   "outputs": [],
   "source": [
    "# Step 2: Start the Graph Builder with this State class\n",
    "graph_builder = StateGraph(State)"
   ]
  },
  {
   "cell_type": "code",
   "execution_count": 14,
   "metadata": {},
   "outputs": [],
   "source": [
    "# This is different:\n",
    "\n",
    "llm = ChatOpenAI(model=\"gpt-4o-mini\") # This is the langChain wrapper to call OpenAI LLM model\n",
    "# bind_tools è un metodo del wrapper ChatOpenAI che:\n",
    "# 1. Prende una lista di tools/funzioni come parametro\n",
    "# 2. Modifica il prompt per includere le descrizioni dei tools nel formato JSON richiesto da OpenAI\n",
    "# 3. Gestisce automaticamente il parsing delle risposte quando il modello decide di usare un tool\n",
    "# 4. Ritorna una nuova istanza del wrapper configurata con i tools forniti\n",
    "llm_with_tools = llm.bind_tools(tools)"
   ]
  },
  {
   "cell_type": "code",
   "execution_count": 15,
   "metadata": {},
   "outputs": [
    {
     "data": {
      "text/plain": [
       "<langgraph.graph.state.StateGraph at 0x11afd80b0>"
      ]
     },
     "execution_count": 15,
     "metadata": {},
     "output_type": "execute_result"
    }
   ],
   "source": [
    "# Step 3: Create a Node\n",
    "def chatbot(state: State):\n",
    "    return {\"messages\": [llm_with_tools.invoke(state[\"messages\"])]} # In our node we invoke the LLM with tools (not the simple LLM)\n",
    "\n",
    "graph_builder.add_node(\"chatbot\", chatbot) # This is the first node created \"chatbot\"\n",
    "graph_builder.add_node(\"tools\", ToolNode(tools=tools)) # ATTENTION: this is special kind of node called \"tools\" representing the tools node\n",
    "# The tools node see if in the messages passed by the user there's the need to use one of the tools, if so it runs them"
   ]
  },
  {
   "cell_type": "code",
   "execution_count": 16,
   "metadata": {},
   "outputs": [
    {
     "data": {
      "text/plain": [
       "<langgraph.graph.state.StateGraph at 0x11afd80b0>"
      ]
     },
     "execution_count": 16,
     "metadata": {},
     "output_type": "execute_result"
    }
   ],
   "source": [
    "# Step 4: Create Edges\n",
    "\n",
    "# NOTA IMPORTANTE: Per collegare i tools dobbiamo usare edges condizionali invece di edges normali\n",
    "# Questo perché non possiamo sapere a priori se un tool verrà effettivamente utilizzato durante l'esecuzione\n",
    "# tools_condition è una funzione che determina se il messaggio del chatbot richiede l'uso di un tool\n",
    "# In pratica tools_condition corrisponde al blocco \"if statement\" che determina se usare un tool o no\n",
    "graph_builder.add_conditional_edges(\"chatbot\", tools_condition, \"tools\") # Linea tratteggiata da chatbot a tools (condizionale)\n",
    "\n",
    "# Any time a tool is called, we return to the chatbot to decide the next step\n",
    "graph_builder.add_edge(\"tools\", \"chatbot\") # linea solida da tools a chatbot perche una volta che si arriva a tools il processo deve sempre tornare indietro\n",
    "graph_builder.add_edge(START, \"chatbot\") # linea solida da start a chatbot\n",
    "\n",
    "# NOTA: LangGraph crea automaticamente un edge condizionale da chatbot a END\n",
    "# Questo perché quando il chatbot non ha bisogno di usare tools (tools_condition è falsa)\n",
    "# significa che ha completato la sua risposta e può terminare il flusso\n",
    "# Non è quindi necessario creare esplicitamente questo edge"
   ]
  },
  {
   "cell_type": "code",
   "execution_count": null,
   "metadata": {},
   "outputs": [],
   "source": [
    "# Step 5: Compile the Graph\n",
    "graph = graph_builder.compile()\n",
    "display(Image(graph.get_graph().draw_mermaid_png()))"
   ]
  },
  {
   "cell_type": "markdown",
   "metadata": {},
   "source": [
    "### That's it! And, let's do this:"
   ]
  },
  {
   "cell_type": "code",
   "execution_count": 3,
   "metadata": {},
   "outputs": [
    {
     "ename": "NameError",
     "evalue": "name 'gr' is not defined",
     "output_type": "error",
     "traceback": [
      "\u001b[31m---------------------------------------------------------------------------\u001b[39m",
      "\u001b[31mNameError\u001b[39m                                 Traceback (most recent call last)",
      "\u001b[36mCell\u001b[39m\u001b[36m \u001b[39m\u001b[32mIn[3]\u001b[39m\u001b[32m, line 6\u001b[39m\n\u001b[32m      2\u001b[39m     result = graph.invoke({\u001b[33m\"\u001b[39m\u001b[33mmessages\u001b[39m\u001b[33m\"\u001b[39m: [{\u001b[33m\"\u001b[39m\u001b[33mrole\u001b[39m\u001b[33m\"\u001b[39m: \u001b[33m\"\u001b[39m\u001b[33muser\u001b[39m\u001b[33m\"\u001b[39m, \u001b[33m\"\u001b[39m\u001b[33mcontent\u001b[39m\u001b[33m\"\u001b[39m: user_input}]})\n\u001b[32m      3\u001b[39m     \u001b[38;5;28;01mreturn\u001b[39;00m result[\u001b[33m\"\u001b[39m\u001b[33mmessages\u001b[39m\u001b[33m\"\u001b[39m][-\u001b[32m1\u001b[39m].content\n\u001b[32m----> \u001b[39m\u001b[32m6\u001b[39m \u001b[43mgr\u001b[49m.ChatInterface(chat, \u001b[38;5;28mtype\u001b[39m=\u001b[33m\"\u001b[39m\u001b[33mmessages\u001b[39m\u001b[33m\"\u001b[39m).launch()\n",
      "\u001b[31mNameError\u001b[39m: name 'gr' is not defined"
     ]
    }
   ],
   "source": [
    "def chat(user_input: str, history):\n",
    "    result = graph.invoke({\"messages\": [{\"role\": \"user\", \"content\": user_input}]})\n",
    "    return result[\"messages\"][-1].content\n",
    "\n",
    "\n",
    "gr.ChatInterface(chat, type=\"messages\").launch()"
   ]
  },
  {
   "cell_type": "markdown",
   "metadata": {},
   "source": [
    "## OK it's time to add Memory!\n",
    "\n",
    "### BUT WAIT!\n",
    "\n",
    "We have this whole Graph maintaining the state and appending to the state.\n",
    "\n",
    "Why isn't this handling memory?\n",
    "\n",
    "### This is a crucial point for understanding LangGraph\n",
    "\n",
    "> A super-step can be considered a single iteration over the graph nodes. Nodes that run in parallel are part of the same super-step, while nodes that run sequentially belong to separate super-steps.\n",
    "\n",
    "\n",
    "One \"Super-Step\" of the graph represents one invocation of passing messages between agents.\n",
    "\n",
    "In idomatic LangGraph, you call invoke to run your graph for each super-step; for each interaction.\n",
    "\n",
    "The reducer handles state updates automatically within one super-step, but not between them.\n",
    "\n",
    "That is what checkpointing achieves."
   ]
  },
  {
   "cell_type": "code",
   "execution_count": 18,
   "metadata": {},
   "outputs": [],
   "source": [
    "from langgraph.checkpoint.memory import MemorySaver\n",
    "\n",
    "memory = MemorySaver()"
   ]
  },
  {
   "cell_type": "code",
   "execution_count": null,
   "metadata": {},
   "outputs": [],
   "source": [
    "# Steps 1 and 2\n",
    "graph_builder = StateGraph(State)\n",
    "\n",
    "\n",
    "# Step 3\n",
    "llm = ChatOpenAI(model=\"gpt-4o-mini\")\n",
    "llm_with_tools = llm.bind_tools(tools)\n",
    "\n",
    "def chatbot(state: State):\n",
    "    print(state)\n",
    "    return {\"messages\": [llm_with_tools.invoke(state[\"messages\"])]}\n",
    "\n",
    "graph_builder.add_node(\"chatbot\", chatbot)\n",
    "graph_builder.add_node(\"tools\", ToolNode(tools=tools))\n",
    "\n",
    "# Step 4\n",
    "graph_builder.add_conditional_edges( \"chatbot\", tools_condition, \"tools\")\n",
    "graph_builder.add_edge(\"tools\", \"chatbot\")\n",
    "graph_builder.add_edge(START, \"chatbot\")\n",
    "\n",
    "# Step 5\n",
    "graph = graph_builder.compile(checkpointer=memory) # we add this method to allow state being saved in the checkpoints\n",
    "display(Image(graph.get_graph().draw_mermaid_png()))"
   ]
  },
  {
   "cell_type": "code",
   "execution_count": null,
   "metadata": {},
   "outputs": [],
   "source": [
    "# We must create this config varialble to be passed below in the invocation of the graph to save states in a memory slot\n",
    "config = {\"configurable\": {\"thread_id\": \"1\"}} # By changing the thread_id number we change the memory slot\n",
    "\n",
    "def chat(user_input: str, history):\n",
    "    result = graph.invoke({\"messages\": [{\"role\": \"user\", \"content\": user_input}]}, config=config)\n",
    "    return result[\"messages\"][-1].content\n",
    "\n",
    "\n",
    "gr.ChatInterface(chat, type=\"messages\").launch()"
   ]
  },
  {
   "cell_type": "code",
   "execution_count": null,
   "metadata": {},
   "outputs": [],
   "source": [
    "graph.get_state(config)\n",
    "# This will return the state of the graph"
   ]
  },
  {
   "cell_type": "code",
   "execution_count": null,
   "metadata": {},
   "outputs": [],
   "source": [
    "# This will return the entire history of the graph starting from the most recent state to the older\n",
    "# This way LangGraph allow to step back in time by passing the specific checkpoint ID\n",
    "list(graph.get_state_history(config))"
   ]
  },
  {
   "cell_type": "markdown",
   "metadata": {},
   "source": [
    "### LangGraph gives you tools to set the state back to a prior point in time, to branch off:\n",
    "\n",
    "## This is called the Time Travel\n",
    "```\n",
    "config = {\"configurable\": {\"thread_id\": \"1\", \"checkpoint_id\": ...}}\n",
    "graph.invoke(None, config=config)\n",
    "```\n",
    "\n",
    "And this allows you to build stable systems that can be recovered and rerun from any prior checkpoint."
   ]
  },
  {
   "cell_type": "markdown",
   "metadata": {},
   "source": [
    "### And now let's store in SQL\n",
    "\n",
    "### And this is the power of LangGraph."
   ]
  },
  {
   "cell_type": "code",
   "execution_count": 21,
   "metadata": {},
   "outputs": [],
   "source": [
    "# Here we use SqliteSver instead of MemorySaver\n",
    "import sqlite3\n",
    "from langgraph.checkpoint.sqlite import SqliteSaver\n",
    "\n",
    "db_path = \"memory.db\"\n",
    "conn = sqlite3.connect(db_path, check_same_thread=False)\n",
    "sql_memory = SqliteSaver(conn)"
   ]
  },
  {
   "cell_type": "code",
   "execution_count": null,
   "metadata": {},
   "outputs": [],
   "source": [
    "# Steps 1 and 2\n",
    "graph_builder = StateGraph(State)\n",
    "\n",
    "\n",
    "# Step 3\n",
    "llm = ChatOpenAI(model=\"gpt-4o-mini\")\n",
    "llm_with_tools = llm.bind_tools(tools)\n",
    "\n",
    "def chatbot(state: State):\n",
    "    print(state)\n",
    "    return {\"messages\": [llm_with_tools.invoke(state[\"messages\"])]}\n",
    "\n",
    "graph_builder.add_node(\"chatbot\", chatbot)\n",
    "graph_builder.add_node(\"tools\", ToolNode(tools=tools))\n",
    "\n",
    "# Step 4\n",
    "graph_builder.add_conditional_edges( \"chatbot\", tools_condition, \"tools\")\n",
    "graph_builder.add_edge(\"tools\", \"chatbot\")\n",
    "graph_builder.add_edge(START, \"chatbot\")\n",
    "\n",
    "# Step 5\n",
    "graph = graph_builder.compile(checkpointer=sql_memory) # IMPORTANT: here we use the instantiation of SQLite\n",
    "display(Image(graph.get_graph().draw_mermaid_png()))\n",
    " "
   ]
  },
  {
   "cell_type": "code",
   "execution_count": 23,
   "metadata": {},
   "outputs": [
    {
     "name": "stdout",
     "output_type": "stream",
     "text": [
      "* Running on local URL:  http://127.0.0.1:7860\n",
      "* To create a public link, set `share=True` in `launch()`.\n"
     ]
    },
    {
     "data": {
      "text/html": [
       "<div><iframe src=\"http://127.0.0.1:7860/\" width=\"100%\" height=\"500\" allow=\"autoplay; camera; microphone; clipboard-read; clipboard-write;\" frameborder=\"0\" allowfullscreen></iframe></div>"
      ],
      "text/plain": [
       "<IPython.core.display.HTML object>"
      ]
     },
     "metadata": {},
     "output_type": "display_data"
    },
    {
     "data": {
      "text/plain": []
     },
     "execution_count": 23,
     "metadata": {},
     "output_type": "execute_result"
    },
    {
     "name": "stdout",
     "output_type": "stream",
     "text": [
      "{'messages': [HumanMessage(content='hi there', additional_kwargs={}, response_metadata={}, id='d6144090-9963-438c-b21b-3fb4f06edbc0'), AIMessage(content='Hello! How can I assist you today?', additional_kwargs={'refusal': None}, response_metadata={'token_usage': {'completion_tokens': 11, 'prompt_tokens': 90, 'total_tokens': 101, 'completion_tokens_details': {'accepted_prediction_tokens': 0, 'audio_tokens': 0, 'reasoning_tokens': 0, 'rejected_prediction_tokens': 0}, 'prompt_tokens_details': {'audio_tokens': 0, 'cached_tokens': 0}}, 'model_name': 'gpt-4o-mini-2024-07-18', 'system_fingerprint': 'fp_b376dfbbd5', 'id': 'chatcmpl-BInN7JUnEYNTQqokCF3eihp5oKP0V', 'finish_reason': 'stop', 'logprobs': None}, id='run-4b488710-73ac-435e-a944-913a0c812d08-0', usage_metadata={'input_tokens': 90, 'output_tokens': 11, 'total_tokens': 101, 'input_token_details': {'audio': 0, 'cache_read': 0}, 'output_token_details': {'audio': 0, 'reasoning': 0}}), HumanMessage(content=\"what's my name\", additional_kwargs={}, response_metadata={}, id='0ee3236f-a0f8-487c-9e18-3a1a83e91d81'), AIMessage(content=\"I don't have access to personal information unless you provide it. What would you like me to call you?\", additional_kwargs={'refusal': None}, response_metadata={'token_usage': {'completion_tokens': 23, 'prompt_tokens': 111, 'total_tokens': 134, 'completion_tokens_details': {'accepted_prediction_tokens': 0, 'audio_tokens': 0, 'reasoning_tokens': 0, 'rejected_prediction_tokens': 0}, 'prompt_tokens_details': {'audio_tokens': 0, 'cached_tokens': 0}}, 'model_name': 'gpt-4o-mini-2024-07-18', 'system_fingerprint': 'fp_b376dfbbd5', 'id': 'chatcmpl-BInNEm0T32rf7Lx23sOvrcePfgL8d', 'finish_reason': 'stop', 'logprobs': None}, id='run-c12bd46c-0c94-475c-b281-89773b1947a2-0', usage_metadata={'input_tokens': 111, 'output_tokens': 23, 'total_tokens': 134, 'input_token_details': {'audio': 0, 'cache_read': 0}, 'output_token_details': {'audio': 0, 'reasoning': 0}}), HumanMessage(content=\"My name's Ed\", additional_kwargs={}, response_metadata={}, id='65e59191-b993-4faf-9699-197f70b79fcd'), AIMessage(content='Nice to meet you, Ed! How can I assist you today?', additional_kwargs={'refusal': None}, response_metadata={'token_usage': {'completion_tokens': 16, 'prompt_tokens': 144, 'total_tokens': 160, 'completion_tokens_details': {'accepted_prediction_tokens': 0, 'audio_tokens': 0, 'reasoning_tokens': 0, 'rejected_prediction_tokens': 0}, 'prompt_tokens_details': {'audio_tokens': 0, 'cached_tokens': 0}}, 'model_name': 'gpt-4o-mini-2024-07-18', 'system_fingerprint': 'fp_b376dfbbd5', 'id': 'chatcmpl-BInNLLW9Z5vrmr2MUfk6CLJBnCMOg', 'finish_reason': 'stop', 'logprobs': None}, id='run-68e08e4e-bc27-4802-b800-8fb359a5d976-0', usage_metadata={'input_tokens': 144, 'output_tokens': 16, 'total_tokens': 160, 'input_token_details': {'audio': 0, 'cache_read': 0}, 'output_token_details': {'audio': 0, 'reasoning': 0}}), HumanMessage(content='hi there', additional_kwargs={}, response_metadata={}, id='dfeeb914-53d6-404f-9a5c-0531f1fe43fe'), AIMessage(content='Hello again, Ed! How can I help you today?', additional_kwargs={'refusal': None}, response_metadata={'token_usage': {'completion_tokens': 14, 'prompt_tokens': 168, 'total_tokens': 182, 'completion_tokens_details': {'accepted_prediction_tokens': 0, 'audio_tokens': 0, 'reasoning_tokens': 0, 'rejected_prediction_tokens': 0}, 'prompt_tokens_details': {'audio_tokens': 0, 'cached_tokens': 0}}, 'model_name': 'gpt-4o-mini-2024-07-18', 'system_fingerprint': 'fp_b376dfbbd5', 'id': 'chatcmpl-BInOS7TKECQA9Trbcv3mBsxkVJ8c3', 'finish_reason': 'stop', 'logprobs': None}, id='run-8b9e7d2c-d34d-4d84-99d2-dcb6b26b84bf-0', usage_metadata={'input_tokens': 168, 'output_tokens': 14, 'total_tokens': 182, 'input_token_details': {'audio': 0, 'cache_read': 0}, 'output_token_details': {'audio': 0, 'reasoning': 0}}), HumanMessage(content='please send me a push notification with the current usd/gbp exchange rate', additional_kwargs={}, response_metadata={}, id='6e096518-8d44-40e9-8aba-bf5027dac79c'), AIMessage(content='', additional_kwargs={'tool_calls': [{'id': 'call_mFP2QpmSUYlvqjz3HBvRv0Cv', 'function': {'arguments': '{\"__arg1\":\"current USD to GBP exchange rate\"}', 'name': 'search'}, 'type': 'function'}], 'refusal': None}, response_metadata={'token_usage': {'completion_tokens': 21, 'prompt_tokens': 203, 'total_tokens': 224, 'completion_tokens_details': {'accepted_prediction_tokens': 0, 'audio_tokens': 0, 'reasoning_tokens': 0, 'rejected_prediction_tokens': 0}, 'prompt_tokens_details': {'audio_tokens': 0, 'cached_tokens': 0}}, 'model_name': 'gpt-4o-mini-2024-07-18', 'system_fingerprint': 'fp_b376dfbbd5', 'id': 'chatcmpl-BInShCTgCsggydsrv3MmpIXLyvzGF', 'finish_reason': 'tool_calls', 'logprobs': None}, id='run-1bc3e47d-30c5-40f4-a9da-42dd24e74732-0', tool_calls=[{'name': 'search', 'args': {'__arg1': 'current USD to GBP exchange rate'}, 'id': 'call_mFP2QpmSUYlvqjz3HBvRv0Cv', 'type': 'tool_call'}], usage_metadata={'input_tokens': 203, 'output_tokens': 21, 'total_tokens': 224, 'input_token_details': {'audio': 0, 'cache_read': 0}, 'output_token_details': {'audio': 0, 'reasoning': 0}}), ToolMessage(content='0.78 Pound sterling', name='search', id='04044643-e40a-4bda-a03c-bc80949d039c', tool_call_id='call_mFP2QpmSUYlvqjz3HBvRv0Cv'), AIMessage(content='', additional_kwargs={'tool_calls': [{'id': 'call_2RByu6cFdwow5BWX8eblN402', 'function': {'arguments': '{\"__arg1\":\"The current USD/GBP exchange rate is 0.78.\"}', 'name': 'send_push_notification'}, 'type': 'function'}], 'refusal': None}, response_metadata={'token_usage': {'completion_tokens': 30, 'prompt_tokens': 235, 'total_tokens': 265, 'completion_tokens_details': {'accepted_prediction_tokens': 0, 'audio_tokens': 0, 'reasoning_tokens': 0, 'rejected_prediction_tokens': 0}, 'prompt_tokens_details': {'audio_tokens': 0, 'cached_tokens': 0}}, 'model_name': 'gpt-4o-mini-2024-07-18', 'system_fingerprint': 'fp_b376dfbbd5', 'id': 'chatcmpl-BInSjgdmKJqByJ2VIxpCZE5vEQpep', 'finish_reason': 'tool_calls', 'logprobs': None}, id='run-030db0cd-4acc-4354-aa65-ae772d33be07-0', tool_calls=[{'name': 'send_push_notification', 'args': {'__arg1': 'The current USD/GBP exchange rate is 0.78.'}, 'id': 'call_2RByu6cFdwow5BWX8eblN402', 'type': 'tool_call'}], usage_metadata={'input_tokens': 235, 'output_tokens': 30, 'total_tokens': 265, 'input_token_details': {'audio': 0, 'cache_read': 0}, 'output_token_details': {'audio': 0, 'reasoning': 0}}), ToolMessage(content='null', name='send_push_notification', id='f16f6e9d-2d0e-4aca-991f-0d9fe7064574', tool_call_id='call_2RByu6cFdwow5BWX8eblN402'), AIMessage(content=\"I've sent you a push notification with the current USD/GBP exchange rate: 0.78. If you need anything else, just let me know!\", additional_kwargs={'refusal': None}, response_metadata={'token_usage': {'completion_tokens': 33, 'prompt_tokens': 274, 'total_tokens': 307, 'completion_tokens_details': {'accepted_prediction_tokens': 0, 'audio_tokens': 0, 'reasoning_tokens': 0, 'rejected_prediction_tokens': 0}, 'prompt_tokens_details': {'audio_tokens': 0, 'cached_tokens': 0}}, 'model_name': 'gpt-4o-mini-2024-07-18', 'system_fingerprint': 'fp_b376dfbbd5', 'id': 'chatcmpl-BInSk4W7o3wDEZhzLtixtWOVgEw4Y', 'finish_reason': 'stop', 'logprobs': None}, id='run-bc27a847-b5bf-4565-85af-8e3163f2c271-0', usage_metadata={'input_tokens': 274, 'output_tokens': 33, 'total_tokens': 307, 'input_token_details': {'audio': 0, 'cache_read': 0}, 'output_token_details': {'audio': 0, 'reasoning': 0}}), HumanMessage(content='can you send that push notification again please', additional_kwargs={}, response_metadata={}, id='328adc3d-8c39-4312-952c-3d3b87d5f736'), AIMessage(content='', additional_kwargs={'tool_calls': [{'id': 'call_9xFtRNwSPl00BBRdY3VGdZ9Y', 'function': {'arguments': '{\"__arg1\":\"The current USD/GBP exchange rate is 0.78.\"}', 'name': 'send_push_notification'}, 'type': 'function'}], 'refusal': None}, response_metadata={'token_usage': {'completion_tokens': 30, 'prompt_tokens': 321, 'total_tokens': 351, 'completion_tokens_details': {'accepted_prediction_tokens': 0, 'audio_tokens': 0, 'reasoning_tokens': 0, 'rejected_prediction_tokens': 0}, 'prompt_tokens_details': {'audio_tokens': 0, 'cached_tokens': 0}}, 'model_name': 'gpt-4o-mini-2024-07-18', 'system_fingerprint': 'fp_b376dfbbd5', 'id': 'chatcmpl-BInTHUIOvZ0DAwfqnVlb1SRlaKHmH', 'finish_reason': 'tool_calls', 'logprobs': None}, id='run-a2225381-34da-44b4-9e8d-45a0b8c29693-0', tool_calls=[{'name': 'send_push_notification', 'args': {'__arg1': 'The current USD/GBP exchange rate is 0.78.'}, 'id': 'call_9xFtRNwSPl00BBRdY3VGdZ9Y', 'type': 'tool_call'}], usage_metadata={'input_tokens': 321, 'output_tokens': 30, 'total_tokens': 351, 'input_token_details': {'audio': 0, 'cache_read': 0}, 'output_token_details': {'audio': 0, 'reasoning': 0}}), ToolMessage(content='null', name='send_push_notification', id='433985ee-9eeb-4b4b-866e-23cfc0f8e9fb', tool_call_id='call_9xFtRNwSPl00BBRdY3VGdZ9Y'), AIMessage(content=\"I've sent the push notification again with the current USD/GBP exchange rate: 0.78. If there's anything else you need, feel free to ask!\", additional_kwargs={'refusal': None}, response_metadata={'token_usage': {'completion_tokens': 34, 'prompt_tokens': 360, 'total_tokens': 394, 'completion_tokens_details': {'accepted_prediction_tokens': 0, 'audio_tokens': 0, 'reasoning_tokens': 0, 'rejected_prediction_tokens': 0}, 'prompt_tokens_details': {'audio_tokens': 0, 'cached_tokens': 0}}, 'model_name': 'gpt-4o-mini-2024-07-18', 'system_fingerprint': 'fp_b376dfbbd5', 'id': 'chatcmpl-BInTJ24F3iaC2JFCLGFb715HxeWU9', 'finish_reason': 'stop', 'logprobs': None}, id='run-eda57a8e-26a4-4aed-a3c6-ce404e2d5cfa-0', usage_metadata={'input_tokens': 360, 'output_tokens': 34, 'total_tokens': 394, 'input_token_details': {'audio': 0, 'cache_read': 0}, 'output_token_details': {'audio': 0, 'reasoning': 0}}), HumanMessage(content='Ciao, sai come mi chiamo?', additional_kwargs={}, response_metadata={}, id='e6e6f91f-7b9c-4833-87d3-ecb87d4f51ce')]}\n",
      "{'messages': [HumanMessage(content='hi there', additional_kwargs={}, response_metadata={}, id='d6144090-9963-438c-b21b-3fb4f06edbc0'), AIMessage(content='Hello! How can I assist you today?', additional_kwargs={'refusal': None}, response_metadata={'token_usage': {'completion_tokens': 11, 'prompt_tokens': 90, 'total_tokens': 101, 'completion_tokens_details': {'accepted_prediction_tokens': 0, 'audio_tokens': 0, 'reasoning_tokens': 0, 'rejected_prediction_tokens': 0}, 'prompt_tokens_details': {'audio_tokens': 0, 'cached_tokens': 0}}, 'model_name': 'gpt-4o-mini-2024-07-18', 'system_fingerprint': 'fp_b376dfbbd5', 'id': 'chatcmpl-BInN7JUnEYNTQqokCF3eihp5oKP0V', 'finish_reason': 'stop', 'logprobs': None}, id='run-4b488710-73ac-435e-a944-913a0c812d08-0', usage_metadata={'input_tokens': 90, 'output_tokens': 11, 'total_tokens': 101, 'input_token_details': {'audio': 0, 'cache_read': 0}, 'output_token_details': {'audio': 0, 'reasoning': 0}}), HumanMessage(content=\"what's my name\", additional_kwargs={}, response_metadata={}, id='0ee3236f-a0f8-487c-9e18-3a1a83e91d81'), AIMessage(content=\"I don't have access to personal information unless you provide it. What would you like me to call you?\", additional_kwargs={'refusal': None}, response_metadata={'token_usage': {'completion_tokens': 23, 'prompt_tokens': 111, 'total_tokens': 134, 'completion_tokens_details': {'accepted_prediction_tokens': 0, 'audio_tokens': 0, 'reasoning_tokens': 0, 'rejected_prediction_tokens': 0}, 'prompt_tokens_details': {'audio_tokens': 0, 'cached_tokens': 0}}, 'model_name': 'gpt-4o-mini-2024-07-18', 'system_fingerprint': 'fp_b376dfbbd5', 'id': 'chatcmpl-BInNEm0T32rf7Lx23sOvrcePfgL8d', 'finish_reason': 'stop', 'logprobs': None}, id='run-c12bd46c-0c94-475c-b281-89773b1947a2-0', usage_metadata={'input_tokens': 111, 'output_tokens': 23, 'total_tokens': 134, 'input_token_details': {'audio': 0, 'cache_read': 0}, 'output_token_details': {'audio': 0, 'reasoning': 0}}), HumanMessage(content=\"My name's Ed\", additional_kwargs={}, response_metadata={}, id='65e59191-b993-4faf-9699-197f70b79fcd'), AIMessage(content='Nice to meet you, Ed! How can I assist you today?', additional_kwargs={'refusal': None}, response_metadata={'token_usage': {'completion_tokens': 16, 'prompt_tokens': 144, 'total_tokens': 160, 'completion_tokens_details': {'accepted_prediction_tokens': 0, 'audio_tokens': 0, 'reasoning_tokens': 0, 'rejected_prediction_tokens': 0}, 'prompt_tokens_details': {'audio_tokens': 0, 'cached_tokens': 0}}, 'model_name': 'gpt-4o-mini-2024-07-18', 'system_fingerprint': 'fp_b376dfbbd5', 'id': 'chatcmpl-BInNLLW9Z5vrmr2MUfk6CLJBnCMOg', 'finish_reason': 'stop', 'logprobs': None}, id='run-68e08e4e-bc27-4802-b800-8fb359a5d976-0', usage_metadata={'input_tokens': 144, 'output_tokens': 16, 'total_tokens': 160, 'input_token_details': {'audio': 0, 'cache_read': 0}, 'output_token_details': {'audio': 0, 'reasoning': 0}}), HumanMessage(content='hi there', additional_kwargs={}, response_metadata={}, id='dfeeb914-53d6-404f-9a5c-0531f1fe43fe'), AIMessage(content='Hello again, Ed! How can I help you today?', additional_kwargs={'refusal': None}, response_metadata={'token_usage': {'completion_tokens': 14, 'prompt_tokens': 168, 'total_tokens': 182, 'completion_tokens_details': {'accepted_prediction_tokens': 0, 'audio_tokens': 0, 'reasoning_tokens': 0, 'rejected_prediction_tokens': 0}, 'prompt_tokens_details': {'audio_tokens': 0, 'cached_tokens': 0}}, 'model_name': 'gpt-4o-mini-2024-07-18', 'system_fingerprint': 'fp_b376dfbbd5', 'id': 'chatcmpl-BInOS7TKECQA9Trbcv3mBsxkVJ8c3', 'finish_reason': 'stop', 'logprobs': None}, id='run-8b9e7d2c-d34d-4d84-99d2-dcb6b26b84bf-0', usage_metadata={'input_tokens': 168, 'output_tokens': 14, 'total_tokens': 182, 'input_token_details': {'audio': 0, 'cache_read': 0}, 'output_token_details': {'audio': 0, 'reasoning': 0}}), HumanMessage(content='please send me a push notification with the current usd/gbp exchange rate', additional_kwargs={}, response_metadata={}, id='6e096518-8d44-40e9-8aba-bf5027dac79c'), AIMessage(content='', additional_kwargs={'tool_calls': [{'id': 'call_mFP2QpmSUYlvqjz3HBvRv0Cv', 'function': {'arguments': '{\"__arg1\":\"current USD to GBP exchange rate\"}', 'name': 'search'}, 'type': 'function'}], 'refusal': None}, response_metadata={'token_usage': {'completion_tokens': 21, 'prompt_tokens': 203, 'total_tokens': 224, 'completion_tokens_details': {'accepted_prediction_tokens': 0, 'audio_tokens': 0, 'reasoning_tokens': 0, 'rejected_prediction_tokens': 0}, 'prompt_tokens_details': {'audio_tokens': 0, 'cached_tokens': 0}}, 'model_name': 'gpt-4o-mini-2024-07-18', 'system_fingerprint': 'fp_b376dfbbd5', 'id': 'chatcmpl-BInShCTgCsggydsrv3MmpIXLyvzGF', 'finish_reason': 'tool_calls', 'logprobs': None}, id='run-1bc3e47d-30c5-40f4-a9da-42dd24e74732-0', tool_calls=[{'name': 'search', 'args': {'__arg1': 'current USD to GBP exchange rate'}, 'id': 'call_mFP2QpmSUYlvqjz3HBvRv0Cv', 'type': 'tool_call'}], usage_metadata={'input_tokens': 203, 'output_tokens': 21, 'total_tokens': 224, 'input_token_details': {'audio': 0, 'cache_read': 0}, 'output_token_details': {'audio': 0, 'reasoning': 0}}), ToolMessage(content='0.78 Pound sterling', name='search', id='04044643-e40a-4bda-a03c-bc80949d039c', tool_call_id='call_mFP2QpmSUYlvqjz3HBvRv0Cv'), AIMessage(content='', additional_kwargs={'tool_calls': [{'id': 'call_2RByu6cFdwow5BWX8eblN402', 'function': {'arguments': '{\"__arg1\":\"The current USD/GBP exchange rate is 0.78.\"}', 'name': 'send_push_notification'}, 'type': 'function'}], 'refusal': None}, response_metadata={'token_usage': {'completion_tokens': 30, 'prompt_tokens': 235, 'total_tokens': 265, 'completion_tokens_details': {'accepted_prediction_tokens': 0, 'audio_tokens': 0, 'reasoning_tokens': 0, 'rejected_prediction_tokens': 0}, 'prompt_tokens_details': {'audio_tokens': 0, 'cached_tokens': 0}}, 'model_name': 'gpt-4o-mini-2024-07-18', 'system_fingerprint': 'fp_b376dfbbd5', 'id': 'chatcmpl-BInSjgdmKJqByJ2VIxpCZE5vEQpep', 'finish_reason': 'tool_calls', 'logprobs': None}, id='run-030db0cd-4acc-4354-aa65-ae772d33be07-0', tool_calls=[{'name': 'send_push_notification', 'args': {'__arg1': 'The current USD/GBP exchange rate is 0.78.'}, 'id': 'call_2RByu6cFdwow5BWX8eblN402', 'type': 'tool_call'}], usage_metadata={'input_tokens': 235, 'output_tokens': 30, 'total_tokens': 265, 'input_token_details': {'audio': 0, 'cache_read': 0}, 'output_token_details': {'audio': 0, 'reasoning': 0}}), ToolMessage(content='null', name='send_push_notification', id='f16f6e9d-2d0e-4aca-991f-0d9fe7064574', tool_call_id='call_2RByu6cFdwow5BWX8eblN402'), AIMessage(content=\"I've sent you a push notification with the current USD/GBP exchange rate: 0.78. If you need anything else, just let me know!\", additional_kwargs={'refusal': None}, response_metadata={'token_usage': {'completion_tokens': 33, 'prompt_tokens': 274, 'total_tokens': 307, 'completion_tokens_details': {'accepted_prediction_tokens': 0, 'audio_tokens': 0, 'reasoning_tokens': 0, 'rejected_prediction_tokens': 0}, 'prompt_tokens_details': {'audio_tokens': 0, 'cached_tokens': 0}}, 'model_name': 'gpt-4o-mini-2024-07-18', 'system_fingerprint': 'fp_b376dfbbd5', 'id': 'chatcmpl-BInSk4W7o3wDEZhzLtixtWOVgEw4Y', 'finish_reason': 'stop', 'logprobs': None}, id='run-bc27a847-b5bf-4565-85af-8e3163f2c271-0', usage_metadata={'input_tokens': 274, 'output_tokens': 33, 'total_tokens': 307, 'input_token_details': {'audio': 0, 'cache_read': 0}, 'output_token_details': {'audio': 0, 'reasoning': 0}}), HumanMessage(content='can you send that push notification again please', additional_kwargs={}, response_metadata={}, id='328adc3d-8c39-4312-952c-3d3b87d5f736'), AIMessage(content='', additional_kwargs={'tool_calls': [{'id': 'call_9xFtRNwSPl00BBRdY3VGdZ9Y', 'function': {'arguments': '{\"__arg1\":\"The current USD/GBP exchange rate is 0.78.\"}', 'name': 'send_push_notification'}, 'type': 'function'}], 'refusal': None}, response_metadata={'token_usage': {'completion_tokens': 30, 'prompt_tokens': 321, 'total_tokens': 351, 'completion_tokens_details': {'accepted_prediction_tokens': 0, 'audio_tokens': 0, 'reasoning_tokens': 0, 'rejected_prediction_tokens': 0}, 'prompt_tokens_details': {'audio_tokens': 0, 'cached_tokens': 0}}, 'model_name': 'gpt-4o-mini-2024-07-18', 'system_fingerprint': 'fp_b376dfbbd5', 'id': 'chatcmpl-BInTHUIOvZ0DAwfqnVlb1SRlaKHmH', 'finish_reason': 'tool_calls', 'logprobs': None}, id='run-a2225381-34da-44b4-9e8d-45a0b8c29693-0', tool_calls=[{'name': 'send_push_notification', 'args': {'__arg1': 'The current USD/GBP exchange rate is 0.78.'}, 'id': 'call_9xFtRNwSPl00BBRdY3VGdZ9Y', 'type': 'tool_call'}], usage_metadata={'input_tokens': 321, 'output_tokens': 30, 'total_tokens': 351, 'input_token_details': {'audio': 0, 'cache_read': 0}, 'output_token_details': {'audio': 0, 'reasoning': 0}}), ToolMessage(content='null', name='send_push_notification', id='433985ee-9eeb-4b4b-866e-23cfc0f8e9fb', tool_call_id='call_9xFtRNwSPl00BBRdY3VGdZ9Y'), AIMessage(content=\"I've sent the push notification again with the current USD/GBP exchange rate: 0.78. If there's anything else you need, feel free to ask!\", additional_kwargs={'refusal': None}, response_metadata={'token_usage': {'completion_tokens': 34, 'prompt_tokens': 360, 'total_tokens': 394, 'completion_tokens_details': {'accepted_prediction_tokens': 0, 'audio_tokens': 0, 'reasoning_tokens': 0, 'rejected_prediction_tokens': 0}, 'prompt_tokens_details': {'audio_tokens': 0, 'cached_tokens': 0}}, 'model_name': 'gpt-4o-mini-2024-07-18', 'system_fingerprint': 'fp_b376dfbbd5', 'id': 'chatcmpl-BInTJ24F3iaC2JFCLGFb715HxeWU9', 'finish_reason': 'stop', 'logprobs': None}, id='run-eda57a8e-26a4-4aed-a3c6-ce404e2d5cfa-0', usage_metadata={'input_tokens': 360, 'output_tokens': 34, 'total_tokens': 394, 'input_token_details': {'audio': 0, 'cache_read': 0}, 'output_token_details': {'audio': 0, 'reasoning': 0}}), HumanMessage(content='Ciao, sai come mi chiamo?', additional_kwargs={}, response_metadata={}, id='e6e6f91f-7b9c-4833-87d3-ecb87d4f51ce'), AIMessage(content='Ciao! Sì, mi hai detto che ti chiami Ed. Come posso aiutarti oggi?', additional_kwargs={'refusal': None}, response_metadata={'token_usage': {'completion_tokens': 22, 'prompt_tokens': 409, 'total_tokens': 431, 'completion_tokens_details': {'accepted_prediction_tokens': 0, 'audio_tokens': 0, 'reasoning_tokens': 0, 'rejected_prediction_tokens': 0}, 'prompt_tokens_details': {'audio_tokens': 0, 'cached_tokens': 0}}, 'model_name': 'gpt-4o-mini-2024-07-18', 'system_fingerprint': 'fp_560af6e559', 'id': 'chatcmpl-CQCaX9PqnGw0Vp1vKZ94vOnAXqqCj', 'service_tier': 'default', 'finish_reason': 'stop', 'logprobs': None}, id='run--ab8a504b-a5c9-4676-803c-33b02b22c26f-0', usage_metadata={'input_tokens': 409, 'output_tokens': 22, 'total_tokens': 431, 'input_token_details': {'audio': 0, 'cache_read': 0}, 'output_token_details': {'audio': 0, 'reasoning': 0}}), HumanMessage(content='Ti sbagli il mio nome è Federico, per cortesia ricordalo.', additional_kwargs={}, response_metadata={}, id='79cfdee9-4c3e-40cb-aa43-fef7898d0441')]}\n",
      "{'messages': [HumanMessage(content='hi there', additional_kwargs={}, response_metadata={}, id='d6144090-9963-438c-b21b-3fb4f06edbc0'), AIMessage(content='Hello! How can I assist you today?', additional_kwargs={'refusal': None}, response_metadata={'token_usage': {'completion_tokens': 11, 'prompt_tokens': 90, 'total_tokens': 101, 'completion_tokens_details': {'accepted_prediction_tokens': 0, 'audio_tokens': 0, 'reasoning_tokens': 0, 'rejected_prediction_tokens': 0}, 'prompt_tokens_details': {'audio_tokens': 0, 'cached_tokens': 0}}, 'model_name': 'gpt-4o-mini-2024-07-18', 'system_fingerprint': 'fp_b376dfbbd5', 'id': 'chatcmpl-BInN7JUnEYNTQqokCF3eihp5oKP0V', 'finish_reason': 'stop', 'logprobs': None}, id='run-4b488710-73ac-435e-a944-913a0c812d08-0', usage_metadata={'input_tokens': 90, 'output_tokens': 11, 'total_tokens': 101, 'input_token_details': {'audio': 0, 'cache_read': 0}, 'output_token_details': {'audio': 0, 'reasoning': 0}}), HumanMessage(content=\"what's my name\", additional_kwargs={}, response_metadata={}, id='0ee3236f-a0f8-487c-9e18-3a1a83e91d81'), AIMessage(content=\"I don't have access to personal information unless you provide it. What would you like me to call you?\", additional_kwargs={'refusal': None}, response_metadata={'token_usage': {'completion_tokens': 23, 'prompt_tokens': 111, 'total_tokens': 134, 'completion_tokens_details': {'accepted_prediction_tokens': 0, 'audio_tokens': 0, 'reasoning_tokens': 0, 'rejected_prediction_tokens': 0}, 'prompt_tokens_details': {'audio_tokens': 0, 'cached_tokens': 0}}, 'model_name': 'gpt-4o-mini-2024-07-18', 'system_fingerprint': 'fp_b376dfbbd5', 'id': 'chatcmpl-BInNEm0T32rf7Lx23sOvrcePfgL8d', 'finish_reason': 'stop', 'logprobs': None}, id='run-c12bd46c-0c94-475c-b281-89773b1947a2-0', usage_metadata={'input_tokens': 111, 'output_tokens': 23, 'total_tokens': 134, 'input_token_details': {'audio': 0, 'cache_read': 0}, 'output_token_details': {'audio': 0, 'reasoning': 0}}), HumanMessage(content=\"My name's Ed\", additional_kwargs={}, response_metadata={}, id='65e59191-b993-4faf-9699-197f70b79fcd'), AIMessage(content='Nice to meet you, Ed! How can I assist you today?', additional_kwargs={'refusal': None}, response_metadata={'token_usage': {'completion_tokens': 16, 'prompt_tokens': 144, 'total_tokens': 160, 'completion_tokens_details': {'accepted_prediction_tokens': 0, 'audio_tokens': 0, 'reasoning_tokens': 0, 'rejected_prediction_tokens': 0}, 'prompt_tokens_details': {'audio_tokens': 0, 'cached_tokens': 0}}, 'model_name': 'gpt-4o-mini-2024-07-18', 'system_fingerprint': 'fp_b376dfbbd5', 'id': 'chatcmpl-BInNLLW9Z5vrmr2MUfk6CLJBnCMOg', 'finish_reason': 'stop', 'logprobs': None}, id='run-68e08e4e-bc27-4802-b800-8fb359a5d976-0', usage_metadata={'input_tokens': 144, 'output_tokens': 16, 'total_tokens': 160, 'input_token_details': {'audio': 0, 'cache_read': 0}, 'output_token_details': {'audio': 0, 'reasoning': 0}}), HumanMessage(content='hi there', additional_kwargs={}, response_metadata={}, id='dfeeb914-53d6-404f-9a5c-0531f1fe43fe'), AIMessage(content='Hello again, Ed! How can I help you today?', additional_kwargs={'refusal': None}, response_metadata={'token_usage': {'completion_tokens': 14, 'prompt_tokens': 168, 'total_tokens': 182, 'completion_tokens_details': {'accepted_prediction_tokens': 0, 'audio_tokens': 0, 'reasoning_tokens': 0, 'rejected_prediction_tokens': 0}, 'prompt_tokens_details': {'audio_tokens': 0, 'cached_tokens': 0}}, 'model_name': 'gpt-4o-mini-2024-07-18', 'system_fingerprint': 'fp_b376dfbbd5', 'id': 'chatcmpl-BInOS7TKECQA9Trbcv3mBsxkVJ8c3', 'finish_reason': 'stop', 'logprobs': None}, id='run-8b9e7d2c-d34d-4d84-99d2-dcb6b26b84bf-0', usage_metadata={'input_tokens': 168, 'output_tokens': 14, 'total_tokens': 182, 'input_token_details': {'audio': 0, 'cache_read': 0}, 'output_token_details': {'audio': 0, 'reasoning': 0}}), HumanMessage(content='please send me a push notification with the current usd/gbp exchange rate', additional_kwargs={}, response_metadata={}, id='6e096518-8d44-40e9-8aba-bf5027dac79c'), AIMessage(content='', additional_kwargs={'tool_calls': [{'id': 'call_mFP2QpmSUYlvqjz3HBvRv0Cv', 'function': {'arguments': '{\"__arg1\":\"current USD to GBP exchange rate\"}', 'name': 'search'}, 'type': 'function'}], 'refusal': None}, response_metadata={'token_usage': {'completion_tokens': 21, 'prompt_tokens': 203, 'total_tokens': 224, 'completion_tokens_details': {'accepted_prediction_tokens': 0, 'audio_tokens': 0, 'reasoning_tokens': 0, 'rejected_prediction_tokens': 0}, 'prompt_tokens_details': {'audio_tokens': 0, 'cached_tokens': 0}}, 'model_name': 'gpt-4o-mini-2024-07-18', 'system_fingerprint': 'fp_b376dfbbd5', 'id': 'chatcmpl-BInShCTgCsggydsrv3MmpIXLyvzGF', 'finish_reason': 'tool_calls', 'logprobs': None}, id='run-1bc3e47d-30c5-40f4-a9da-42dd24e74732-0', tool_calls=[{'name': 'search', 'args': {'__arg1': 'current USD to GBP exchange rate'}, 'id': 'call_mFP2QpmSUYlvqjz3HBvRv0Cv', 'type': 'tool_call'}], usage_metadata={'input_tokens': 203, 'output_tokens': 21, 'total_tokens': 224, 'input_token_details': {'audio': 0, 'cache_read': 0}, 'output_token_details': {'audio': 0, 'reasoning': 0}}), ToolMessage(content='0.78 Pound sterling', name='search', id='04044643-e40a-4bda-a03c-bc80949d039c', tool_call_id='call_mFP2QpmSUYlvqjz3HBvRv0Cv'), AIMessage(content='', additional_kwargs={'tool_calls': [{'id': 'call_2RByu6cFdwow5BWX8eblN402', 'function': {'arguments': '{\"__arg1\":\"The current USD/GBP exchange rate is 0.78.\"}', 'name': 'send_push_notification'}, 'type': 'function'}], 'refusal': None}, response_metadata={'token_usage': {'completion_tokens': 30, 'prompt_tokens': 235, 'total_tokens': 265, 'completion_tokens_details': {'accepted_prediction_tokens': 0, 'audio_tokens': 0, 'reasoning_tokens': 0, 'rejected_prediction_tokens': 0}, 'prompt_tokens_details': {'audio_tokens': 0, 'cached_tokens': 0}}, 'model_name': 'gpt-4o-mini-2024-07-18', 'system_fingerprint': 'fp_b376dfbbd5', 'id': 'chatcmpl-BInSjgdmKJqByJ2VIxpCZE5vEQpep', 'finish_reason': 'tool_calls', 'logprobs': None}, id='run-030db0cd-4acc-4354-aa65-ae772d33be07-0', tool_calls=[{'name': 'send_push_notification', 'args': {'__arg1': 'The current USD/GBP exchange rate is 0.78.'}, 'id': 'call_2RByu6cFdwow5BWX8eblN402', 'type': 'tool_call'}], usage_metadata={'input_tokens': 235, 'output_tokens': 30, 'total_tokens': 265, 'input_token_details': {'audio': 0, 'cache_read': 0}, 'output_token_details': {'audio': 0, 'reasoning': 0}}), ToolMessage(content='null', name='send_push_notification', id='f16f6e9d-2d0e-4aca-991f-0d9fe7064574', tool_call_id='call_2RByu6cFdwow5BWX8eblN402'), AIMessage(content=\"I've sent you a push notification with the current USD/GBP exchange rate: 0.78. If you need anything else, just let me know!\", additional_kwargs={'refusal': None}, response_metadata={'token_usage': {'completion_tokens': 33, 'prompt_tokens': 274, 'total_tokens': 307, 'completion_tokens_details': {'accepted_prediction_tokens': 0, 'audio_tokens': 0, 'reasoning_tokens': 0, 'rejected_prediction_tokens': 0}, 'prompt_tokens_details': {'audio_tokens': 0, 'cached_tokens': 0}}, 'model_name': 'gpt-4o-mini-2024-07-18', 'system_fingerprint': 'fp_b376dfbbd5', 'id': 'chatcmpl-BInSk4W7o3wDEZhzLtixtWOVgEw4Y', 'finish_reason': 'stop', 'logprobs': None}, id='run-bc27a847-b5bf-4565-85af-8e3163f2c271-0', usage_metadata={'input_tokens': 274, 'output_tokens': 33, 'total_tokens': 307, 'input_token_details': {'audio': 0, 'cache_read': 0}, 'output_token_details': {'audio': 0, 'reasoning': 0}}), HumanMessage(content='can you send that push notification again please', additional_kwargs={}, response_metadata={}, id='328adc3d-8c39-4312-952c-3d3b87d5f736'), AIMessage(content='', additional_kwargs={'tool_calls': [{'id': 'call_9xFtRNwSPl00BBRdY3VGdZ9Y', 'function': {'arguments': '{\"__arg1\":\"The current USD/GBP exchange rate is 0.78.\"}', 'name': 'send_push_notification'}, 'type': 'function'}], 'refusal': None}, response_metadata={'token_usage': {'completion_tokens': 30, 'prompt_tokens': 321, 'total_tokens': 351, 'completion_tokens_details': {'accepted_prediction_tokens': 0, 'audio_tokens': 0, 'reasoning_tokens': 0, 'rejected_prediction_tokens': 0}, 'prompt_tokens_details': {'audio_tokens': 0, 'cached_tokens': 0}}, 'model_name': 'gpt-4o-mini-2024-07-18', 'system_fingerprint': 'fp_b376dfbbd5', 'id': 'chatcmpl-BInTHUIOvZ0DAwfqnVlb1SRlaKHmH', 'finish_reason': 'tool_calls', 'logprobs': None}, id='run-a2225381-34da-44b4-9e8d-45a0b8c29693-0', tool_calls=[{'name': 'send_push_notification', 'args': {'__arg1': 'The current USD/GBP exchange rate is 0.78.'}, 'id': 'call_9xFtRNwSPl00BBRdY3VGdZ9Y', 'type': 'tool_call'}], usage_metadata={'input_tokens': 321, 'output_tokens': 30, 'total_tokens': 351, 'input_token_details': {'audio': 0, 'cache_read': 0}, 'output_token_details': {'audio': 0, 'reasoning': 0}}), ToolMessage(content='null', name='send_push_notification', id='433985ee-9eeb-4b4b-866e-23cfc0f8e9fb', tool_call_id='call_9xFtRNwSPl00BBRdY3VGdZ9Y'), AIMessage(content=\"I've sent the push notification again with the current USD/GBP exchange rate: 0.78. If there's anything else you need, feel free to ask!\", additional_kwargs={'refusal': None}, response_metadata={'token_usage': {'completion_tokens': 34, 'prompt_tokens': 360, 'total_tokens': 394, 'completion_tokens_details': {'accepted_prediction_tokens': 0, 'audio_tokens': 0, 'reasoning_tokens': 0, 'rejected_prediction_tokens': 0}, 'prompt_tokens_details': {'audio_tokens': 0, 'cached_tokens': 0}}, 'model_name': 'gpt-4o-mini-2024-07-18', 'system_fingerprint': 'fp_b376dfbbd5', 'id': 'chatcmpl-BInTJ24F3iaC2JFCLGFb715HxeWU9', 'finish_reason': 'stop', 'logprobs': None}, id='run-eda57a8e-26a4-4aed-a3c6-ce404e2d5cfa-0', usage_metadata={'input_tokens': 360, 'output_tokens': 34, 'total_tokens': 394, 'input_token_details': {'audio': 0, 'cache_read': 0}, 'output_token_details': {'audio': 0, 'reasoning': 0}}), HumanMessage(content='Ciao, sai come mi chiamo?', additional_kwargs={}, response_metadata={}, id='e6e6f91f-7b9c-4833-87d3-ecb87d4f51ce'), AIMessage(content='Ciao! Sì, mi hai detto che ti chiami Ed. Come posso aiutarti oggi?', additional_kwargs={'refusal': None}, response_metadata={'token_usage': {'completion_tokens': 22, 'prompt_tokens': 409, 'total_tokens': 431, 'completion_tokens_details': {'accepted_prediction_tokens': 0, 'audio_tokens': 0, 'reasoning_tokens': 0, 'rejected_prediction_tokens': 0}, 'prompt_tokens_details': {'audio_tokens': 0, 'cached_tokens': 0}}, 'model_name': 'gpt-4o-mini-2024-07-18', 'system_fingerprint': 'fp_560af6e559', 'id': 'chatcmpl-CQCaX9PqnGw0Vp1vKZ94vOnAXqqCj', 'service_tier': 'default', 'finish_reason': 'stop', 'logprobs': None}, id='run--ab8a504b-a5c9-4676-803c-33b02b22c26f-0', usage_metadata={'input_tokens': 409, 'output_tokens': 22, 'total_tokens': 431, 'input_token_details': {'audio': 0, 'cache_read': 0}, 'output_token_details': {'audio': 0, 'reasoning': 0}}), HumanMessage(content='Ti sbagli il mio nome è Federico, per cortesia ricordalo.', additional_kwargs={}, response_metadata={}, id='79cfdee9-4c3e-40cb-aa43-fef7898d0441'), AIMessage(content=\"Mi scuso per l'errore, Federico! Grazie per avermelo fatto sapere. Come posso aiutarti oggi?\", additional_kwargs={'refusal': None}, response_metadata={'token_usage': {'completion_tokens': 27, 'prompt_tokens': 453, 'total_tokens': 480, 'completion_tokens_details': {'accepted_prediction_tokens': 0, 'audio_tokens': 0, 'reasoning_tokens': 0, 'rejected_prediction_tokens': 0}, 'prompt_tokens_details': {'audio_tokens': 0, 'cached_tokens': 0}}, 'model_name': 'gpt-4o-mini-2024-07-18', 'system_fingerprint': 'fp_560af6e559', 'id': 'chatcmpl-CQCbSnqA7H5bQYi9cKfRMyedzylfR', 'service_tier': 'default', 'finish_reason': 'stop', 'logprobs': None}, id='run--e82ca89a-c7b1-4979-bb71-c139b083fbf7-0', usage_metadata={'input_tokens': 453, 'output_tokens': 27, 'total_tokens': 480, 'input_token_details': {'audio': 0, 'cache_read': 0}, 'output_token_details': {'audio': 0, 'reasoning': 0}}), HumanMessage(content='Come mi chiamo?', additional_kwargs={}, response_metadata={}, id='45d3caa3-a6b0-492e-8c66-c1437d370fb5')]}\n"
     ]
    }
   ],
   "source": [
    "config = {\"configurable\": {\"thread_id\": \"3\"}}\n",
    "\n",
    "def chat(user_input: str, history):\n",
    "    result = graph.invoke({\"messages\": [{\"role\": \"user\", \"content\": user_input}]}, config=config)\n",
    "    return result[\"messages\"][-1].content\n",
    "\n",
    "\n",
    "gr.ChatInterface(chat, type=\"messages\").launch()"
   ]
  },
  {
   "cell_type": "markdown",
   "metadata": {},
   "source": [
    "### Persistent memory\n",
    "Note memory is stored persistently even restarting the Kernel since the information aree sterein in files in the project tree.\n",
    "Look at the project tree to see:\n",
    "* memory.db\n",
    "* memory.db-shm\n",
    "* memory.db-wal"
   ]
  },
  {
   "cell_type": "code",
   "execution_count": null,
   "metadata": {},
   "outputs": [],
   "source": []
  }
 ],
 "metadata": {
  "kernelspec": {
   "display_name": ".venv",
   "language": "python",
   "name": "python3"
  },
  "language_info": {
   "codemirror_mode": {
    "name": "ipython",
    "version": 3
   },
   "file_extension": ".py",
   "mimetype": "text/x-python",
   "name": "python",
   "nbconvert_exporter": "python",
   "pygments_lexer": "ipython3",
   "version": "3.12.4"
  }
 },
 "nbformat": 4,
 "nbformat_minor": 2
}
