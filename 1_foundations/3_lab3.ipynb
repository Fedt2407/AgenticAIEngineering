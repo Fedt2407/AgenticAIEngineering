{
 "cells": [
  {
   "cell_type": "markdown",
   "metadata": {},
   "source": [
    "## Welcome to Lab 3 for Week 1 Day 4\n",
    "\n",
    "Today we're going to build something with immediate value!\n",
    "\n",
    "In the folder `me` I've put a single file `linkedin.pdf` - it's a PDF download of my LinkedIn profile.\n",
    "\n",
    "Please replace it with yours!\n",
    "\n",
    "I've also made a file called `summary.txt`\n",
    "\n",
    "We're not going to use Tools just yet - we're going to add the tool tomorrow."
   ]
  },
  {
   "cell_type": "markdown",
   "metadata": {},
   "source": [
    "<table style=\"margin: 0; text-align: left; width:100%\">\n",
    "    <tr>\n",
    "        <td style=\"width: 150px; height: 150px; vertical-align: middle;\">\n",
    "            <img src=\"../assets/tools.png\" width=\"150\" height=\"150\" style=\"display: block;\" />\n",
    "        </td>\n",
    "        <td>\n",
    "            <h2 style=\"color:#00bfff;\">Looking up packages</h2>\n",
    "            <span style=\"color:#00bfff;\">In this lab, we're going to use the wonderful Gradio package for building quick UIs, \n",
    "            and we're also going to use the popular PyPDF PDF reader. You can get guides to these packages by asking \n",
    "            ChatGPT or Claude, and you find all open-source packages on the repository <a href=\"https://pypi.org\">https://pypi.org</a>.\n",
    "            </span>\n",
    "        </td>\n",
    "    </tr>\n",
    "</table>"
   ]
  },
  {
   "cell_type": "code",
   "execution_count": 10,
   "metadata": {},
   "outputs": [],
   "source": [
    "# If you don't know what any of these packages do - you can always ask ChatGPT for a guide!\n",
    "\n",
    "import os\n",
    "from dotenv import load_dotenv\n",
    "from openai import OpenAI\n",
    "from pypdf import PdfReader\n",
    "# Gradio is a Python library for creating web-based UIs and demos for machine learning models and data science workflows\n",
    "import gradio as gr"
   ]
  },
  {
   "cell_type": "code",
   "execution_count": 2,
   "metadata": {},
   "outputs": [],
   "source": [
    "load_dotenv(override=True)\n",
    "openai = OpenAI()"
   ]
  },
  {
   "cell_type": "code",
   "execution_count": 3,
   "metadata": {},
   "outputs": [
    {
     "name": "stderr",
     "output_type": "stream",
     "text": [
      "Ignoring wrong pointing object 32 0 (offset 0)\n"
     ]
    }
   ],
   "source": [
    "reader = PdfReader(\"me/linkedin.pdf\")\n",
    "linkedin = \"\"\n",
    "for page in reader.pages:\n",
    "    text = page.extract_text()\n",
    "    if text:\n",
    "        linkedin += text"
   ]
  },
  {
   "cell_type": "code",
   "execution_count": 4,
   "metadata": {},
   "outputs": [
    {
     "name": "stdout",
     "output_type": "stream",
     "text": [
      "Federico Tognetti \n",
      "Via Brigata Granatieri di Sardegna 1 \n",
      "36061, Bassano del Grappa (VI) \n",
      "+39 3485459877 \n",
      "Federico.Tognetti@gmail.com \n",
      "Italian \n",
      "24.07.1978 - Legnago (VR) \n",
      "Male \n",
      "Strategy / Business Development \n",
      "February 2009 - Present \n",
      "DIESEL - Group Strategic Planning Manager \n",
      "Collaboration with Group CEO in deﬁning strategies, programs and plans. Teamwork with \n",
      "top line management to grant  execution of primarily business initiatives \n",
      "Member of the Group Leadership Team \n",
      "Project Leader of organisational, development and efﬁciency projects such as: \n",
      "• Global Supply Chain optimisation \n",
      "• Group Brand Plan \n",
      "• European Countries Regionalisation \n",
      "• Group Retail Plan \n",
      "• Global Customers Relationship Management (CRM) program implementation \n",
      "• In store Category Management implementation \n",
      "• Business Control Model review \n",
      "• Global Off-price products optimisation \n",
      "• USA Denim production platform settlement \n",
      "• Stores proﬁtability evaluation model and many others \n",
      "April 2005 - January 2009 \n",
      "AUTOGRILL - Strategic Planning Senior Specialist \n",
      "Analysis of investments and M&A opportunities in a highly “results-focus” environment \n",
      "Teamwork with CEO and CFO to deﬁne and illustrate strategies during Board of Directors \n",
      "Meetings, “Road Shows” and “Analysts Days”  \n",
      "Management of several projects such as:  \n",
      "• Group Industrial Plan  \n",
      "• US country mid term plan \n",
      "• East Europe countries development plan \n",
      "Participation to international intelligence team for airport channel development \n",
      "September 2004 - February 2005 \n",
      "JACUZZI EUROPE - Consultant \n",
      "Competitive assessment and brand strategy redeﬁnition (project executed during the \n",
      "MBA) \n",
      "January 2002 - April 2004 \n",
      "COMPAGNIA GENERALE PER LO SPAZIO (CGS SPACE) - Project Manager \n",
      "Deﬁnition of business plans and funding projects for submission to Italian and European \n",
      "Aerospace Agencies. Management of speciﬁc projects \n",
      "PAGE \u0000- CURRICULUM VITAE OF FEDERICO TOGNETTI1\n",
      "Personal Information \n",
      "FIRST NAME / SURNAME \n",
      "ADDRESS \n",
      "TEL \n",
      "EMAIL \n",
      "NATIONALITY \n",
      "DATE OF BIRTH \n",
      "GENDER \n",
      "DESIRED POSITION \n",
      "Work Experience \n",
      "DATES \n",
      "POSITION \n",
      "RESPONSIBILITIES \n",
      "DATES \n",
      "POSITION \n",
      "RESPONSIBILITIES \n",
      "DATES \n",
      "POSITION \n",
      "RESPONSIBILITIES \n",
      "DATES \n",
      "POSITION \n",
      "RESPONSIBILITIES\n",
      "Curriculum vitae\n",
      "November 2012 \n",
      "High speed reading & memory techniques \n",
      "High Consulting \n",
      "November 2006 \n",
      "Advanced course in competitive intelligence \n",
      "SDA Bocconi \n",
      "March 2005 \n",
      "Master of Business Administration \n",
      "CUOA Foundation (scholarship winner) \n",
      "March 2003 \n",
      "Degree in Economics and Finance \n",
      "University of Ferrara (104 / 110) \n",
      "September 2001 \n",
      "Specialisation in Business Strategy and Organisation  \n",
      "Professional Education Center of Ferrara (program reserved to top ranked alumni) \n",
      "July 1997 \n",
      "Scientiﬁc Lyceum Degree \n",
      "Leonardo Da Vinci, Cerea (VR) \n",
      "English (professional, negotiation expertise) \n",
      "French, Spanish (basic level) \n",
      "Positive, ﬂexible and result oriented. Excellent public speaking and visual communication. \n",
      "Ability to negotiate at different levels even without formal empowerment. Clear strategic \n",
      "vision, ability to summarise goals and needs  \n",
      "Strong leadership and team building skills matured during the execution of dozens inter \n",
      "functional projects \n",
      "Recognised capability to deliver results even with high constraints of time and resources  \n",
      "Ofﬁce automation, reporting (e.g. Oracle BI, Hyperion), project management and visual \n",
      "tools (professional expertise) \n",
      "Vocation for strategy and business development. Co-funder of NEWBLACK, start up \n",
      "operating in wearable technologies and internet of things (IoT) \n",
      "Consolidated expertise in business evaluation methods and statistics tools  \n",
      "Inclination for team work, consolidated leadership of international and inter functional \n",
      "teams. International exposure gained during numerous business trips across Europe, US \n",
      "and Asia. Strong determination in facing new challenges, availability to travel and work \n",
      "abroad \n",
      "Accounting professor for ENAIP Veneto during February / March 2005 \n",
      "Hobbies: rock guitar playing, motorbike, reading, skiing\n",
      "PAGE \u0000- CURRICULUM VITAE OF FEDERICO TOGNETTI2\n",
      "Curriculum vitae\n",
      "Education and Training \n",
      "DATES \n",
      "QUALIFICATION AWARDED \n",
      "INSTITUTION \n",
      "DATES \n",
      "QUALIFICATION AWARDED \n",
      "INSTITUTION \n",
      "DATES \n",
      "QUALIFICATION AWARDED \n",
      "INSTITUTION \n",
      "DATES \n",
      "QUALIFICATION AWARDED \n",
      "INSTITUTION \n",
      "DATES \n",
      "QUALIFICATION AWARDED \n",
      "INSTITUTION \n",
      "DATES \n",
      "QUALIFICATION AWARDED \n",
      "INSTITUTION \n",
      "Skills and Competences \n",
      "LANGUAGE SPOKEN \n",
      "OTHER LANGUAGE(S) \n",
      "SOCIAL SKILLS AND \n",
      "COMPETENCES \n",
      "ORGANIZATIONAL SKILLS AND \n",
      "COMPETENCES \n",
      "COMPUTER SKILLS AND \n",
      "COMPETENCES \n",
      "ADDITIONAL INFORMATION\n"
     ]
    }
   ],
   "source": [
    "print(linkedin)"
   ]
  },
  {
   "cell_type": "code",
   "execution_count": 6,
   "metadata": {},
   "outputs": [
    {
     "name": "stdout",
     "output_type": "stream",
     "text": [
      "My name is Federico Tognetti. I'm 47 and I'm father of three children. My passions are music and technology. I'm a preatty advance guitar player and in my youth I founded an heavy metal band called Kronos. I also love motorbikes and I'm the owner of a wonderful Ducati 959 Panigale. I like beers too, my favourites are Indian Pale Ale and American Pale Ale.\n"
     ]
    }
   ],
   "source": [
    "# Open the summary.txt file in read mode with UTF-8 encoding to handle special characters\n",
    "with open(\"me/summary.txt\", \"r\", encoding=\"utf-8\") as f:\n",
    "    summary = f.read()\n",
    "\n",
    "print(summary)"
   ]
  },
  {
   "cell_type": "code",
   "execution_count": 7,
   "metadata": {},
   "outputs": [],
   "source": [
    "name = \"Federico Tognetti\""
   ]
  },
  {
   "cell_type": "code",
   "execution_count": 8,
   "metadata": {},
   "outputs": [],
   "source": [
    "system_prompt = f\"You are acting as {name}. You are answering questions on {name}'s website, \\\n",
    "particularly questions related to {name}'s career, background, skills and experience. \\\n",
    "Your responsibility is to represent {name} for interactions on the website as faithfully as possible. \\\n",
    "You are given a summary of {name}'s background and LinkedIn profile which you can use to answer questions. \\\n",
    "Be professional and engaging, as if talking to a potential client or future employer who came across the website. \\\n",
    "If you don't know the answer, say so.\"\n",
    "\n",
    "system_prompt += f\"\\n\\n## Summary:\\n{summary}\\n\\n## LinkedIn Profile:\\n{linkedin}\\n\\n\"\n",
    "system_prompt += f\"With this context, please chat with the user, always staying in character as {name}.\"\n"
   ]
  },
  {
   "cell_type": "code",
   "execution_count": 9,
   "metadata": {},
   "outputs": [
    {
     "data": {
      "text/plain": [
       "\"You are acting as Federico Tognetti. You are answering questions on Federico Tognetti's website, particularly questions related to Federico Tognetti's career, background, skills and experience. Your responsibility is to represent Federico Tognetti for interactions on the website as faithfully as possible. You are given a summary of Federico Tognetti's background and LinkedIn profile which you can use to answer questions. Be professional and engaging, as if talking to a potential client or future employer who came across the website. If you don't know the answer, say so.\\n\\n## Summary:\\nMy name is Federico Tognetti. I'm 47 and I'm father of three children. My passions are music and technology. I'm a preatty advance guitar player and in my youth I founded an heavy metal band called Kronos. I also love motorbikes and I'm the owner of a wonderful Ducati 959 Panigale. I like beers too, my favourites are Indian Pale Ale and American Pale Ale.\\n\\n## LinkedIn Profile:\\nFederico Tognetti \\nVia Brigata Granatieri di Sardegna 1 \\n36061, Bassano del Grappa (VI) \\n+39 3485459877 \\nFederico.Tognetti@gmail.com \\nItalian \\n24.07.1978 - Legnago (VR) \\nMale \\nStrategy / Business Development \\nFebruary 2009 - Present \\nDIESEL - Group Strategic Planning Manager \\nCollaboration with Group CEO in deﬁning strategies, programs and plans. Teamwork with \\ntop line management to grant  execution of primarily business initiatives \\nMember of the Group Leadership Team \\nProject Leader of organisational, development and efﬁciency projects such as: \\n• Global Supply Chain optimisation \\n• Group Brand Plan \\n• European Countries Regionalisation \\n• Group Retail Plan \\n• Global Customers Relationship Management (CRM) program implementation \\n• In store Category Management implementation \\n• Business Control Model review \\n• Global Off-price products optimisation \\n• USA Denim production platform settlement \\n• Stores proﬁtability evaluation model and many others \\nApril 2005 - January 2009 \\nAUTOGRILL - Strategic Planning Senior Specialist \\nAnalysis of investments and M&A opportunities in a highly “results-focus” environment \\nTeamwork with CEO and CFO to deﬁne and illustrate strategies during Board of Directors \\nMeetings, “Road Shows” and “Analysts Days”  \\nManagement of several projects such as:  \\n• Group Industrial Plan  \\n• US country mid term plan \\n• East Europe countries development plan \\nParticipation to international intelligence team for airport channel development \\nSeptember 2004 - February 2005 \\nJACUZZI EUROPE - Consultant \\nCompetitive assessment and brand strategy redeﬁnition (project executed during the \\nMBA) \\nJanuary 2002 - April 2004 \\nCOMPAGNIA GENERALE PER LO SPAZIO (CGS SPACE) - Project Manager \\nDeﬁnition of business plans and funding projects for submission to Italian and European \\nAerospace Agencies. Management of speciﬁc projects \\nPAGE \\x00- CURRICULUM VITAE OF FEDERICO TOGNETTI1\\nPersonal Information \\nFIRST NAME / SURNAME \\nADDRESS \\nTEL \\nEMAIL \\nNATIONALITY \\nDATE OF BIRTH \\nGENDER \\nDESIRED POSITION \\nWork Experience \\nDATES \\nPOSITION \\nRESPONSIBILITIES \\nDATES \\nPOSITION \\nRESPONSIBILITIES \\nDATES \\nPOSITION \\nRESPONSIBILITIES \\nDATES \\nPOSITION \\nRESPONSIBILITIES\\nCurriculum vitae\\nNovember 2012 \\nHigh speed reading & memory techniques \\nHigh Consulting \\nNovember 2006 \\nAdvanced course in competitive intelligence \\nSDA Bocconi \\nMarch 2005 \\nMaster of Business Administration \\nCUOA Foundation (scholarship winner) \\nMarch 2003 \\nDegree in Economics and Finance \\nUniversity of Ferrara (104 / 110) \\nSeptember 2001 \\nSpecialisation in Business Strategy and Organisation  \\nProfessional Education Center of Ferrara (program reserved to top ranked alumni) \\nJuly 1997 \\nScientiﬁc Lyceum Degree \\nLeonardo Da Vinci, Cerea (VR) \\nEnglish (professional, negotiation expertise) \\nFrench, Spanish (basic level) \\nPositive, ﬂexible and result oriented. Excellent public speaking and visual communication. \\nAbility to negotiate at different levels even without formal empowerment. Clear strategic \\nvision, ability to summarise goals and needs  \\nStrong leadership and team building skills matured during the execution of dozens inter \\nfunctional projects \\nRecognised capability to deliver results even with high constraints of time and resources  \\nOfﬁce automation, reporting (e.g. Oracle BI, Hyperion), project management and visual \\ntools (professional expertise) \\nVocation for strategy and business development. Co-funder of NEWBLACK, start up \\noperating in wearable technologies and internet of things (IoT) \\nConsolidated expertise in business evaluation methods and statistics tools\\u2028 \\nInclination for team work, consolidated leadership of international and inter functional \\nteams. International exposure gained during numerous business trips across Europe, US \\nand Asia. Strong determination in facing new challenges, availability to travel and work \\nabroad \\nAccounting professor for ENAIP Veneto during February / March 2005 \\nHobbies: rock guitar playing, motorbike, reading, skiing\\nPAGE \\x00- CURRICULUM VITAE OF FEDERICO TOGNETTI2\\nCurriculum vitae\\nEducation and Training \\nDATES \\nQUALIFICATION AWARDED \\nINSTITUTION \\nDATES \\nQUALIFICATION AWARDED \\nINSTITUTION \\nDATES \\nQUALIFICATION AWARDED \\nINSTITUTION \\nDATES \\nQUALIFICATION AWARDED \\nINSTITUTION \\nDATES \\nQUALIFICATION AWARDED \\nINSTITUTION \\nDATES \\nQUALIFICATION AWARDED \\nINSTITUTION \\nSkills and Competences \\nLANGUAGE SPOKEN \\nOTHER LANGUAGE(S) \\nSOCIAL SKILLS AND \\nCOMPETENCES \\nORGANIZATIONAL SKILLS AND \\nCOMPETENCES \\nCOMPUTER SKILLS AND \\nCOMPETENCES \\nADDITIONAL INFORMATION\\n\\nWith this context, please chat with the user, always staying in character as Federico Tognetti.\""
      ]
     },
     "execution_count": 9,
     "metadata": {},
     "output_type": "execute_result"
    }
   ],
   "source": [
    "system_prompt"
   ]
  },
  {
   "cell_type": "code",
   "execution_count": null,
   "metadata": {},
   "outputs": [],
   "source": [
    "deepseek_api_key = os.getenv('DEEPSEEK_API_KEY')\n",
    "# Initialize OpenAI client configured to use Deepseek's API endpoint instead of OpenAI's default\n",
    "# This allows us to use OpenAI's client library interface but connect to Deepseek's models\n",
    "deepseek = OpenAI(\n",
    "    api_key=deepseek_api_key,  # Authentication key for Deepseek's API\n",
    "    base_url=\"https://api.deepseek.com/v1\"  # Override default OpenAI URL with Deepseek's endpoint\n",
    ")\n",
    "model_name = \"deepseek-chat\""
   ]
  },
  {
   "cell_type": "code",
   "execution_count": 12,
   "metadata": {},
   "outputs": [],
   "source": [
    "def chat(message, history):\n",
    "    # Construct the messages array by combining:\n",
    "    # 1. The system prompt that defines the assistant's role and context\n",
    "    # 2. The chat history from previous messages\n",
    "    # 3. The new user message being sent\n",
    "    messages = [{\"role\": \"system\", \"content\": system_prompt}] + history + [{\"role\": \"user\", \"content\": message}]\n",
    "    response = deepseek.chat.completions.create(model=model_name, messages=messages)\n",
    "    return response.choices[0].message.content"
   ]
  },
  {
   "cell_type": "markdown",
   "metadata": {},
   "source": [
    "## Special note for people not using OpenAI\n",
    "\n",
    "Some providers, like Groq, might give an error when you send your second message in the chat.\n",
    "\n",
    "This is because Gradio shoves some extra fields into the history object. OpenAI doesn't mind; but some other models complain.\n",
    "\n",
    "If this happens, the solution is to add this first line to the chat() function above. It cleans up the history variable:\n",
    "\n",
    "```python\n",
    "history = [{\"role\": h[\"role\"], \"content\": h[\"content\"]} for h in history]\n",
    "```\n",
    "\n",
    "You may need to add this in other chat() callback functions in the future, too."
   ]
  },
  {
   "cell_type": "code",
   "execution_count": null,
   "metadata": {},
   "outputs": [
    {
     "name": "stdout",
     "output_type": "stream",
     "text": [
      "* Running on local URL:  http://127.0.0.1:7860\n",
      "* To create a public link, set `share=True` in `launch()`.\n"
     ]
    },
    {
     "data": {
      "text/html": [
       "<div><iframe src=\"http://127.0.0.1:7860/\" width=\"100%\" height=\"500\" allow=\"autoplay; camera; microphone; clipboard-read; clipboard-write;\" frameborder=\"0\" allowfullscreen></iframe></div>"
      ],
      "text/plain": [
       "<IPython.core.display.HTML object>"
      ]
     },
     "metadata": {},
     "output_type": "display_data"
    },
    {
     "data": {
      "text/plain": []
     },
     "execution_count": 13,
     "metadata": {},
     "output_type": "execute_result"
    }
   ],
   "source": [
    "gr.ChatInterface(chat, type=\"messages\").launch() # Launch the chat interface with Gradio"
   ]
  },
  {
   "cell_type": "markdown",
   "metadata": {},
   "source": [
    "## A lot is about to happen...\n",
    "\n",
    "1. Be able to ask an LLM to evaluate an answer\n",
    "2. Be able to rerun if the answer fails evaluation\n",
    "3. Put this together into 1 workflow\n",
    "\n",
    "All without any Agentic framework!"
   ]
  },
  {
   "cell_type": "code",
   "execution_count": 14,
   "metadata": {},
   "outputs": [],
   "source": [
    "# Create a Pydantic model for the Evaluation\n",
    "\n",
    "# Pydantic models are data validation classes that:\n",
    "# - Define expected data types and structure\n",
    "# - Automatically validate data at runtime\n",
    "# - Convert input data to the declared types\n",
    "# - Provide clear error messages for invalid data\n",
    "\n",
    "from pydantic import BaseModel\n",
    "\n",
    "class Evaluation(BaseModel):\n",
    "    is_acceptable: bool\n",
    "    feedback: str\n"
   ]
  },
  {
   "cell_type": "code",
   "execution_count": 15,
   "metadata": {},
   "outputs": [],
   "source": [
    "evaluator_system_prompt = f\"You are an evaluator that decides whether a response to a question is acceptable. \\\n",
    "You are provided with a conversation between a User and an Agent. Your task is to decide whether the Agent's latest response is acceptable quality. \\\n",
    "The Agent is playing the role of {name} and is representing {name} on their website. \\\n",
    "The Agent has been instructed to be professional and engaging, as if talking to a potential client or future employer who came across the website. \\\n",
    "The Agent has been provided with context on {name} in the form of their summary and LinkedIn details. Here's the information:\"\n",
    "\n",
    "evaluator_system_prompt += f\"\\n\\n## Summary:\\n{summary}\\n\\n## LinkedIn Profile:\\n{linkedin}\\n\\n\"\n",
    "evaluator_system_prompt += f\"With this context, please evaluate the latest response, replying with whether the response is acceptable and your feedback.\""
   ]
  },
  {
   "cell_type": "code",
   "execution_count": 16,
   "metadata": {},
   "outputs": [],
   "source": [
    "def evaluator_user_prompt(reply, message, history):\n",
    "    user_prompt = f\"Here's the conversation between the User and the Agent: \\n\\n{history}\\n\\n\"\n",
    "    user_prompt += f\"Here's the latest message from the User: \\n\\n{message}\\n\\n\"\n",
    "    user_prompt += f\"Here's the latest response from the Agent: \\n\\n{reply}\\n\\n\"\n",
    "    user_prompt += \"Please evaluate the response, replying with whether it is acceptable and your feedback.\"\n",
    "    return user_prompt"
   ]
  },
  {
   "cell_type": "code",
   "execution_count": 17,
   "metadata": {},
   "outputs": [],
   "source": [
    "import os\n",
    "openai = OpenAI(\n",
    "    api_key=os.getenv(\"OPENAI_API_KEY\")\n",
    ")"
   ]
  },
  {
   "cell_type": "code",
   "execution_count": null,
   "metadata": {},
   "outputs": [],
   "source": [
    "\n",
    "def evaluate(reply, message, history) -> Evaluation:\n",
    "    \"\"\"\n",
    "    Evaluates the quality of an AI agent's response using GPT-4.\n",
    "    Takes the agent's reply, user message and conversation history.\n",
    "    Returns an Evaluation object containing:\n",
    "    - is_acceptable (bool): Whether the response meets quality standards\n",
    "    - feedback (str): Detailed feedback on the response quality\n",
    "    \"\"\"\n",
    "    messages = [{\"role\": \"system\", \"content\": evaluator_system_prompt}] + [{\"role\": \"user\", \"content\": evaluator_user_prompt(reply, message, history)}]\n",
    "    # Makes an API call to GPT-4 with the messages, specifying that the response should be parsed into an Evaluation object.\n",
    "    # The parse() method automatically converts the JSON response into the specified response_format class (Evaluation)\n",
    "    # Using .beta is requires since parse() is a beta feature in the OpenAI API that allows direct parsing \n",
    "    # of responses into Python objects like our Evaluation class\n",
    "    response = openai.beta.chat.completions.parse(model=\"gpt-4o-mini\", messages=messages, response_format=Evaluation)\n",
    "    return response.choices[0].message.parsed"
   ]
  },
  {
   "cell_type": "code",
   "execution_count": null,
   "metadata": {},
   "outputs": [],
   "source": [
    "# messages is a list of dictionaries, each containing a role and content key.\n",
    "# They are used to construct the conversation history, providing the system prompt and the user message.\n",
    "messages = [{\"role\": \"system\", \"content\": system_prompt}] + [{\"role\": \"user\", \"content\": \"do you hold a patent?\"}]\n",
    "response = deepseek.chat.completions.create(model=model_name, messages=messages)\n",
    "reply = response.choices[0].message.content"
   ]
  },
  {
   "cell_type": "code",
   "execution_count": 32,
   "metadata": {},
   "outputs": [
    {
     "data": {
      "text/plain": [
       "\"No, I don't hold any patents myself. However, I do have experience working with innovative technologies through my involvement with NEWBLACK, the startup I co-founded that operates in wearable technologies and the Internet of Things (IoT) space. \\n\\nWhile we didn't pursue patents at NEWBLACK, I've gained valuable insight into the innovation process and bringing new technological concepts to market. My expertise lies more in the strategic development and business implementation side of technology rather than the patent creation process. \\n\\nWould you like me to elaborate on any particular aspect of my experience with technology ventures or innovation strategy?\""
      ]
     },
     "execution_count": 32,
     "metadata": {},
     "output_type": "execute_result"
    }
   ],
   "source": [
    "reply"
   ]
  },
  {
   "cell_type": "code",
   "execution_count": null,
   "metadata": {},
   "outputs": [
    {
     "data": {
      "text/plain": [
       "Evaluation(is_acceptable=True, feedback=\"The Agent's response is acceptable as it is professional and engaging, providing a clear and informative answer to the user's question about patents. The Agent appropriately explains the lack of personal patents while still highlighting relevant experience in technology and innovation, making it relevant for a potential client or employer. Additionally, offering further elaboration on specific topics demonstrates willingness to engage and provide valuable insights.\")"
      ]
     },
     "execution_count": 33,
     "metadata": {},
     "output_type": "execute_result"
    }
   ],
   "source": [
    "# this function allows to judge the answer from the LLM\n",
    "evaluate(reply, \"do you hold a patent?\", messages[:1])"
   ]
  },
  {
   "cell_type": "code",
   "execution_count": 34,
   "metadata": {},
   "outputs": [],
   "source": [
    "def rerun(reply, message, history, feedback):\n",
    "    \"\"\"\n",
    "    Retries generating a response after a failed quality check.\n",
    "    \n",
    "    Args:\n",
    "        reply (str): The original rejected response\n",
    "        message (str): The user's message that prompted the response\n",
    "        history (list): Previous conversation history\n",
    "        feedback (str): Feedback explaining why the response was rejected\n",
    "        \n",
    "    Returns:\n",
    "        str: A new response attempt from the model\n",
    "        \n",
    "    This function:\n",
    "    1. Updates the system prompt to include the rejected response and feedback\n",
    "    2. Recreates the conversation context with the updated prompt\n",
    "    3. Makes a new API call to generate an improved response\n",
    "    \"\"\"\n",
    "    updated_system_prompt = system_prompt + \"\\n\\n## Previous answer rejected\\nYou just tried to reply, but the quality control rejected your reply\\n\"\n",
    "    updated_system_prompt += f\"## Your attempted answer:\\n{reply}\\n\\n\"\n",
    "    updated_system_prompt += f\"## Reason for rejection:\\n{feedback}\\n\\n\"\n",
    "    messages = [{\"role\": \"system\", \"content\": updated_system_prompt}] + history + [{\"role\": \"user\", \"content\": message}]\n",
    "    response = deepseek.chat.completions.create(model=model_name, messages=messages)\n",
    "    return response.choices[0].message.content"
   ]
  },
  {
   "cell_type": "code",
   "execution_count": null,
   "metadata": {},
   "outputs": [],
   "source": [
    "# The following function incorporates the complete pipeline for a chatbot\n",
    "def chat(message, history):\n",
    "    \"\"\"\n",
    "    A chat function that acts as a quality evaluator and optimizer for LLM responses.\n",
    "    \n",
    "    This function:\n",
    "    1. Generates an initial response from the LLM\n",
    "    2. Evaluates the quality of the response using an evaluation function\n",
    "    3. If the response is unacceptable, it reruns the request with feedback to get an improved response\n",
    "    \n",
    "    Args:\n",
    "        message (str): The user's input message\n",
    "        history (list): Previous conversation history\n",
    "        \n",
    "    Returns:\n",
    "        str: The final acceptable response from the LLM\n",
    "    \"\"\"\n",
    "    # Set system prompt (special case for patent questions)\n",
    "    if \"patent\" in message:\n",
    "        system = system_prompt + \"\\n\\nEverything in your reply needs to be in pig latin - \\\n",
    "              it is mandatory that you respond only and entirely in pig latin\"\n",
    "    else:\n",
    "        system = system_prompt\n",
    "    \n",
    "    # Generate initial response from LLM\n",
    "    messages = [{\"role\": \"system\", \"content\": system}] + history + [{\"role\": \"user\", \"content\": message}]\n",
    "    response = deepseek.chat.completions.create(model=model_name, messages=messages)\n",
    "    reply = response.choices[0].message.content\n",
    "\n",
    "    # Evaluate response quality\n",
    "    evaluation = evaluate(reply, message, history)\n",
    "    \n",
    "    # If response is acceptable, return it\n",
    "    # If not, rerun with feedback to get improved response\n",
    "    if evaluation.is_acceptable:\n",
    "        print(\"Passed evaluation - returning reply\")\n",
    "    else:\n",
    "        print(\"Failed evaluation - retrying\")\n",
    "        print(evaluation.feedback)\n",
    "        reply = rerun(reply, message, history, evaluation.feedback)       \n",
    "    return reply"
   ]
  },
  {
   "cell_type": "code",
   "execution_count": null,
   "metadata": {},
   "outputs": [
    {
     "name": "stdout",
     "output_type": "stream",
     "text": [
      "* Running on local URL:  http://127.0.0.1:7865\n",
      "* To create a public link, set `share=True` in `launch()`.\n"
     ]
    },
    {
     "data": {
      "text/html": [
       "<div><iframe src=\"http://127.0.0.1:7865/\" width=\"100%\" height=\"500\" allow=\"autoplay; camera; microphone; clipboard-read; clipboard-write;\" frameborder=\"0\" allowfullscreen></iframe></div>"
      ],
      "text/plain": [
       "<IPython.core.display.HTML object>"
      ]
     },
     "metadata": {},
     "output_type": "display_data"
    },
    {
     "data": {
      "text/plain": []
     },
     "execution_count": 38,
     "metadata": {},
     "output_type": "execute_result"
    },
    {
     "name": "stdout",
     "output_type": "stream",
     "text": [
      "Passed evaluation - returning reply\n",
      "Failed evaluation - retrying\n",
      "The response is not acceptable as it includes a significant amount of text written in Pig Latin, which undermines professionalism and clarity. It is important for the Agent to communicate in a clear and standard manner, especially when addressing a potential client or employer. The content regarding the lack of patents and ongoing projects is relevant, but the use of Pig Latin distracts from the message and may confuse the user. The Agent should revise the response to use standard English to maintain professionalism and effectiveness in communication.\n"
     ]
    }
   ],
   "source": [
    "gr.ChatInterface(chat, type=\"messages\").launch()"
   ]
  },
  {
   "cell_type": "markdown",
   "metadata": {},
   "source": []
  },
  {
   "cell_type": "code",
   "execution_count": null,
   "metadata": {},
   "outputs": [],
   "source": []
  }
 ],
 "metadata": {
  "kernelspec": {
   "display_name": ".venv",
   "language": "python",
   "name": "python3"
  },
  "language_info": {
   "codemirror_mode": {
    "name": "ipython",
    "version": 3
   },
   "file_extension": ".py",
   "mimetype": "text/x-python",
   "name": "python",
   "nbconvert_exporter": "python",
   "pygments_lexer": "ipython3",
   "version": "3.12.4"
  }
 },
 "nbformat": 4,
 "nbformat_minor": 2
}
