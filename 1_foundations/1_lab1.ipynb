{
 "cells": [
  {
   "cell_type": "markdown",
   "metadata": {},
   "source": [
    "# Welcome to the start of your adventure in Agentic AI"
   ]
  },
  {
   "cell_type": "markdown",
   "metadata": {},
   "source": [
    "<table style=\"margin: 0; text-align: left; width:100%\">\n",
    "    <tr>\n",
    "        <td style=\"width: 150px; height: 150px; vertical-align: middle;\">\n",
    "            <img src=\"../assets/stop.png\" width=\"150\" height=\"150\" style=\"display: block;\" />\n",
    "        </td>\n",
    "        <td>\n",
    "            <h2 style=\"color:#ff7800;\">Are you ready for action??</h2>\n",
    "            <span style=\"color:#ff7800;\">Have you completed all the setup steps in the <a href=\"../setup/\">setup</a> folder?<br/>\n",
    "            Have you read the <a href=\"../README.md\">README</a>? Many common questions are answered here!<br/>\n",
    "            Have you checked out the guides in the <a href=\"../guides/01_intro.ipynb\">guides</a> folder?<br/>\n",
    "            Well in that case, you're ready!!\n",
    "            </span>\n",
    "        </td>\n",
    "    </tr>\n",
    "</table>"
   ]
  },
  {
   "cell_type": "markdown",
   "metadata": {},
   "source": [
    "<table style=\"margin: 0; text-align: left; width:100%\">\n",
    "    <tr>\n",
    "        <td style=\"width: 150px; height: 150px; vertical-align: middle;\">\n",
    "            <img src=\"../assets/tools.png\" width=\"150\" height=\"150\" style=\"display: block;\" />\n",
    "        </td>\n",
    "        <td>\n",
    "            <h2 style=\"color:#00bfff;\">This code is a live resource - keep an eye out for my updates</h2>\n",
    "            <span style=\"color:#00bfff;\">I push updates regularly. As people ask questions or have problems, I add more examples and improve explanations. As a result, the code below might not be identical to the videos, as I've added more steps and better comments. Consider this like an interactive book that accompanies the lectures.<br/><br/>\n",
    "            I try to send emails regularly with important updates related to the course. You can find this in the 'Announcements' section of Udemy in the left sidebar. You can also choose to receive my emails via your Notification Settings in Udemy. I'm respectful of your inbox and always try to add value with my emails!\n",
    "            </span>\n",
    "        </td>\n",
    "    </tr>\n",
    "</table>"
   ]
  },
  {
   "cell_type": "markdown",
   "metadata": {},
   "source": [
    "### And please do remember to contact me if I can help\n",
    "\n",
    "And I love to connect: https://www.linkedin.com/in/eddonner/\n",
    "\n",
    "\n",
    "### New to Notebooks like this one? Head over to the guides folder!\n",
    "\n",
    "Just to check you've already added the Python and Jupyter extensions to Cursor, if not already installed:\n",
    "- Open extensions (View >> extensions)\n",
    "- Search for python, and when the results show, click on the ms-python one, and Install it if not already installed\n",
    "- Search for jupyter, and when the results show, click on the Microsoft one, and Install it if not already installed  \n",
    "Then View >> Explorer to bring back the File Explorer.\n",
    "\n",
    "And then:\n",
    "1. Click where it says \"Select Kernel\" near the top right, and select the option called `.venv (Python 3.12.9)` or similar, which should be the first choice or the most prominent choice. You may need to choose \"Python Environments\" first.\n",
    "2. Click in each \"cell\" below, starting with the cell immediately below this text, and press Shift+Enter to run\n",
    "3. Enjoy!\n",
    "\n",
    "After you click \"Select Kernel\", if there is no option like `.venv (Python 3.12.9)` then please do the following:  \n",
    "1. On Mac: From the Cursor menu, choose Settings >> VS Code Settings (NOTE: be sure to select `VSCode Settings` not `Cursor Settings`);  \n",
    "On Windows PC: From the File menu, choose Preferences >> VS Code Settings(NOTE: be sure to select `VSCode Settings` not `Cursor Settings`)  \n",
    "2. In the Settings search bar, type \"venv\"  \n",
    "3. In the field \"Path to folder with a list of Virtual Environments\" put the path to the project root, like C:\\Users\\username\\projects\\agents (on a Windows PC) or /Users/username/projects/agents (on Mac or Linux).  \n",
    "And then try again.\n",
    "\n",
    "Having problems with missing Python versions in that list? Have you ever used Anaconda before? It might be interferring. Quit Cursor, bring up a new command line, and make sure that your Anaconda environment is deactivated:    \n",
    "`conda deactivate`  \n",
    "And if you still have any problems with conda and python versions, it's possible that you will need to run this too:  \n",
    "`conda config --set auto_activate_base false`  \n",
    "and then from within the Agents directory, you should be able to run `uv python list` and see the Python 3.12 version."
   ]
  },
  {
   "cell_type": "code",
   "execution_count": 1,
   "metadata": {},
   "outputs": [],
   "source": [
    "# First let's do an import. If you get an Import Error, double check that your Kernel is correct..\n",
    "\n",
    "from dotenv import load_dotenv\n",
    "\n"
   ]
  },
  {
   "cell_type": "code",
   "execution_count": 4,
   "metadata": {},
   "outputs": [
    {
     "data": {
      "text/plain": [
       "True"
      ]
     },
     "execution_count": 4,
     "metadata": {},
     "output_type": "execute_result"
    }
   ],
   "source": [
    "# Next it's time to load the API keys into environment variables\n",
    "# If this returns false, see the next cell!\n",
    "\n",
    "# Looks at the environment variables to see if they're loaded\n",
    "load_dotenv(override=True) # Override the existing environment variables so the ones in the .env file takes priorirty\n"
   ]
  },
  {
   "cell_type": "markdown",
   "metadata": {},
   "source": [
    "### Wait, did that just output `False`??\n",
    "\n",
    "If so, the most common reason is that you didn't save your `.env` file after adding the key! Be sure to have saved.\n",
    "\n",
    "Also, make sure the `.env` file is named precisely `.env` and is in the project root directory (`agents`)\n",
    "\n",
    "By the way, your `.env` file should have a stop symbol next to it in Cursor on the left, and that's actually a good thing: that's Cursor saying to you, \"hey, I realize this is a file filled with secret information, and I'm not going to send it to an external AI to suggest changes, because your keys should not be shown to anyone else.\""
   ]
  },
  {
   "cell_type": "markdown",
   "metadata": {},
   "source": [
    "<table style=\"margin: 0; text-align: left; width:100%\">\n",
    "    <tr>\n",
    "        <td style=\"width: 150px; height: 150px; vertical-align: middle;\">\n",
    "            <img src=\"../assets/stop.png\" width=\"150\" height=\"150\" style=\"display: block;\" />\n",
    "        </td>\n",
    "        <td>\n",
    "            <h2 style=\"color:#ff7800;\">Final reminders</h2>\n",
    "            <span style=\"color:#ff7800;\">1. If you're not confident about Environment Variables or Web Endpoints / APIs, please read Topics 3 and 5 in this <a href=\"../guides/04_technical_foundations.ipynb\">technical foundations guide</a>.<br/>\n",
    "            2. If you want to use AIs other than OpenAI, like Gemini, DeepSeek or Ollama (free), please see the first section in this <a href=\"../guides/09_ai_apis_and_ollama.ipynb\">AI APIs guide</a>.<br/>\n",
    "            3. If you ever get a Name Error in Python, you can always fix it immediately; see the last section of this <a href=\"../guides/06_python_foundations.ipynb\">Python Foundations guide</a> and follow both tutorials and exercises.<br/>\n",
    "            </span>\n",
    "        </td>\n",
    "    </tr>\n",
    "</table>"
   ]
  },
  {
   "cell_type": "code",
   "execution_count": 5,
   "metadata": {},
   "outputs": [
    {
     "name": "stdout",
     "output_type": "stream",
     "text": [
      "OpenAI API Key exists and begins sk-proj-\n"
     ]
    }
   ],
   "source": [
    "# Check the key - if you're not using OpenAI, check whichever key you're using! Ollama doesn't need a key.\n",
    "\n",
    "import os\n",
    "openai_api_key = os.getenv('OPENAI_API_KEY')\n",
    "\n",
    "if openai_api_key:\n",
    "    print(f\"OpenAI API Key exists and begins {openai_api_key[:8]}\")\n",
    "else:\n",
    "    print(\"OpenAI API Key not set - please head to the troubleshooting guide in the setup folder\")\n",
    "    \n"
   ]
  },
  {
   "cell_type": "code",
   "execution_count": 6,
   "metadata": {},
   "outputs": [],
   "source": [
    "# And now - the all important import statement\n",
    "# If you get an import error - head over to troubleshooting in the Setup folder\n",
    "# Even for other LLM providers like Gemini, you still use this OpenAI import - see Guide 9 for why\n",
    "\n",
    "from openai import OpenAI"
   ]
  },
  {
   "cell_type": "code",
   "execution_count": 7,
   "metadata": {},
   "outputs": [],
   "source": [
    "# And now we'll create an instance of the OpenAI class\n",
    "# If you're not sure what it means to create an instance of a class - head over to the guides folder (guide 6)!\n",
    "# If you get a NameError - head over to the guides folder (guide 6)to learn about NameErrors - always instantly fixable\n",
    "# If you're not using OpenAI, you just need to slightly modify this - precise instructions are in the AI APIs guide (guide 9)\n",
    "\n",
    "openai = OpenAI()"
   ]
  },
  {
   "cell_type": "code",
   "execution_count": 8,
   "metadata": {},
   "outputs": [],
   "source": [
    "# Create a list of messages in the familiar OpenAI format\n",
    "# This is the standard conversation format for OpenAI\n",
    "\n",
    "messages = [{\"role\": \"user\", \"content\": \"What is 2+2?\"}]\n"
   ]
  },
  {
   "cell_type": "code",
   "execution_count": 9,
   "metadata": {},
   "outputs": [
    {
     "name": "stdout",
     "output_type": "stream",
     "text": [
      "2 + 2 equals 4.\n"
     ]
    }
   ],
   "source": [
    "# And now call it! Any problems, head to the troubleshooting guide\n",
    "# This uses GPT 4.1 nano, the incredibly cheap model\n",
    "# The APIs guide (guide 9) has exact instructions for using even cheaper or free alternatives to OpenAI\n",
    "# If you get a NameError, head to the guides folder (guide 6) to learn about NameErrors - always instantly fixable\n",
    "\n",
    "response = openai.chat.completions.create(\n",
    "    model=\"gpt-4.1-nano\",\n",
    "    messages=messages\n",
    ")\n",
    "\n",
    "print(response.choices[0].message.content)\n"
   ]
  },
  {
   "cell_type": "code",
   "execution_count": 10,
   "metadata": {},
   "outputs": [],
   "source": [
    "# And now - let's ask for a question:\n",
    "\n",
    "question = \"Please propose a hard, challenging question to assess someone's IQ. Respond only with the question.\"\n",
    "messages = [{\"role\": \"user\", \"content\": question}]\n"
   ]
  },
  {
   "cell_type": "code",
   "execution_count": 11,
   "metadata": {},
   "outputs": [
    {
     "name": "stdout",
     "output_type": "stream",
     "text": [
      "A bat and a ball cost $1.10 in total. The bat costs $1.00 more than the ball. How much does the ball cost?\n"
     ]
    }
   ],
   "source": [
    "# ask it - this uses GPT 4.1 mini, still cheap but more powerful than nano\n",
    "\n",
    "response = openai.chat.completions.create(\n",
    "    model=\"gpt-4.1-mini\",\n",
    "    messages=messages\n",
    ")\n",
    "\n",
    "question = response.choices[0].message.content\n",
    "\n",
    "print(question)\n"
   ]
  },
  {
   "cell_type": "code",
   "execution_count": 12,
   "metadata": {},
   "outputs": [],
   "source": [
    "# form a new messages list\n",
    "messages = [{\"role\": \"user\", \"content\": question}]\n"
   ]
  },
  {
   "cell_type": "code",
   "execution_count": 13,
   "metadata": {},
   "outputs": [
    {
     "name": "stdout",
     "output_type": "stream",
     "text": [
      "Let's define the cost of the ball as \\( x \\) dollars.\n",
      "\n",
      "According to the problem:\n",
      "\n",
      "- The bat costs \\( x + 1.00 \\) dollars.\n",
      "- Together, they cost \\( 1.10 \\) dollars.\n",
      "\n",
      "So, we can write the equation:\n",
      "\n",
      "\\[\n",
      "x + (x + 1.00) = 1.10\n",
      "\\]\n",
      "\n",
      "Simplify:\n",
      "\n",
      "\\[\n",
      "2x + 1.00 = 1.10\n",
      "\\]\n",
      "\n",
      "Subtract 1.00 from both sides:\n",
      "\n",
      "\\[\n",
      "2x = 0.10\n",
      "\\]\n",
      "\n",
      "Divide both sides by 2:\n",
      "\n",
      "\\[\n",
      "x = 0.05\n",
      "\\]\n",
      "\n",
      "**Answer:** The ball costs **5 cents**.\n"
     ]
    }
   ],
   "source": [
    "# Ask it again\n",
    "\n",
    "response = openai.chat.completions.create(\n",
    "    model=\"gpt-4.1-mini\",\n",
    "    messages=messages\n",
    ")\n",
    "\n",
    "answer = response.choices[0].message.content\n",
    "print(answer)\n"
   ]
  },
  {
   "cell_type": "code",
   "execution_count": null,
   "metadata": {},
   "outputs": [
    {
     "data": {
      "text/markdown": [
       "Let's define the cost of the ball as \\( x \\) dollars.\n",
       "\n",
       "According to the problem:\n",
       "\n",
       "- The bat costs \\( x + 1.00 \\) dollars.\n",
       "- Together, they cost \\( 1.10 \\) dollars.\n",
       "\n",
       "So, we can write the equation:\n",
       "\n",
       "\\[\n",
       "x + (x + 1.00) = 1.10\n",
       "\\]\n",
       "\n",
       "Simplify:\n",
       "\n",
       "\\[\n",
       "2x + 1.00 = 1.10\n",
       "\\]\n",
       "\n",
       "Subtract 1.00 from both sides:\n",
       "\n",
       "\\[\n",
       "2x = 0.10\n",
       "\\]\n",
       "\n",
       "Divide both sides by 2:\n",
       "\n",
       "\\[\n",
       "x = 0.05\n",
       "\\]\n",
       "\n",
       "**Answer:** The ball costs **5 cents**."
      ],
      "text/plain": [
       "<IPython.core.display.Markdown object>"
      ]
     },
     "metadata": {},
     "output_type": "display_data"
    }
   ],
   "source": [
    "from IPython.display import Markdown, display\n",
    "\n",
    "display(Markdown(answer))\n",
    "\n",
    "# This allows to display the answer in a more readable format\n",
    "# Remember LLM's always respond in markdown format\n"
   ]
  },
  {
   "cell_type": "markdown",
   "metadata": {},
   "source": [
    "# Congratulations!\n",
    "\n",
    "That was a small, simple step in the direction of Agentic AI, with your new environment!\n",
    "\n",
    "Next time things get more interesting..."
   ]
  },
  {
   "cell_type": "markdown",
   "metadata": {},
   "source": [
    "<table style=\"margin: 0; text-align: left; width:100%\">\n",
    "    <tr>\n",
    "        <td style=\"width: 150px; height: 150px; vertical-align: middle;\">\n",
    "            <img src=\"../assets/exercise.png\" width=\"150\" height=\"150\" style=\"display: block;\" />\n",
    "        </td>\n",
    "        <td>\n",
    "            <h2 style=\"color:#ff7800;\">Exercise</h2>\n",
    "            <span style=\"color:#ff7800;\">Now try this commercial application:<br/>\n",
    "            First ask the LLM to pick a business area that might be worth exploring for an Agentic AI opportunity.<br/>\n",
    "            Then ask the LLM to present a pain-point in that industry - something challenging that might be ripe for an Agentic solution.<br/>\n",
    "            Finally have 3 third LLM call propose the Agentic AI solution. <br/>\n",
    "            We will cover this at up-coming labs, so don't worry if you're unsure.. just give it a try!\n",
    "            </span>\n",
    "        </td>\n",
    "    </tr>\n",
    "</table>"
   ]
  },
  {
   "cell_type": "code",
   "execution_count": 17,
   "metadata": {},
   "outputs": [
    {
     "name": "stdout",
     "output_type": "stream",
     "text": [
      "An **agentic opportunity** refers to a business or venture that allows individuals or entrepreneurs to take proactive, independent actions to create value, influence outcomes, and exercise control over resources or markets. It emphasizes personal initiative, creativity, and the ability to act decisively in uncertain environments.\n",
      "\n",
      "A business that can be explored as an agentic opportunity is one where the entrepreneur can innovate, shape the business model, and respond dynamically to customer needs and market changes.\n",
      "\n",
      "### Examples of businesses suitable as agentic opportunities:\n",
      "\n",
      "1. **Digital Marketing Agency**  \n",
      "   - The entrepreneur can develop unique strategies tailored to different clients, experiment with new platforms, and directly impact the success of campaigns.\n",
      "\n",
      "2. **E-commerce Store (Niche Products)**  \n",
      "   - Owners can choose what products to sell, how to brand them, and explore direct-to-consumer sales, customizing their approach continuously based on customer feedback and market trends.\n",
      "\n",
      "3. **Consulting Business**  \n",
      "   - Consultants leverage their expertise to address specific client challenges, designing custom solutions and building relationships on their own terms.\n",
      "\n",
      "4. **App Development or SaaS Startup**  \n",
      "   - Founders create innovative software solutions, iterate based on user feedback, pivot business models, and own the product roadmap.\n",
      "\n",
      "5. **Freelance Creative Services (e.g., graphic design, content writing)**  \n",
      "   - Freelancers set their own niche, clients, pricing, and project scope, controlling every aspect of their business.\n",
      "\n",
      "### Summary:\n",
      "If you seek a business to explore as an agentic opportunity, consider ventures where you have autonomy, the ability to influence outcomes, and room to innovate—such as starting a digital agency, an online store, freelance work, or a tech startup.\n"
     ]
    }
   ],
   "source": [
    "# First create the messages:\n",
    "\n",
    "messages = [{\"role\": \"user\", \"content\": \"Which is a business that can be explored as an agentic opportunity?\"}]\n",
    "\n",
    "# Then make the first call:\n",
    "\n",
    "response = openai.chat.completions.create(\n",
    "    model=\"gpt-4.1-mini\",\n",
    "    messages=messages\n",
    ")\n",
    "\n",
    "# Then read the business idea:\n",
    "\n",
    "business_idea = response.choices[0].message.content\n",
    "\n",
    "# And repeat! In the next message, include the business idea within the message\n",
    "\n",
    "print(business_idea)"
   ]
  },
  {
   "cell_type": "code",
   "execution_count": 18,
   "metadata": {},
   "outputs": [
    {
     "name": "stdout",
     "output_type": "stream",
     "text": [
      "A very big pain point in selecting an **agentic opportunity** often revolves around **balancing autonomy with uncertainty and risk management**.\n",
      "\n",
      "### Explanation:\n",
      "Because agentic opportunities emphasize personal initiative, creativity, and control, entrepreneurs face the challenge of:\n",
      "\n",
      "- **High uncertainty:** There are no fixed formulas or guaranteed paths to success. The entrepreneur must constantly experiment, learn, and pivot.\n",
      "- **Resource constraints:** With control comes responsibility for all aspects—financial, time, skills—which can be overwhelming.\n",
      "- **Market unpredictability:** Because the business constantly adapts to customer needs and market changes, forecasting and stability can be difficult.\n",
      "- **Decision fatigue:** Making many independent strategic decisions without external structure or guidance can be mentally taxing.\n",
      "- **Scaling challenges:** Maintaining personalized, innovative approaches while growing can be difficult.\n",
      "\n",
      "### In summary:\n",
      "While agentic opportunities provide autonomy and creativity, the **big pain point** is **navigating the inherent uncertainty, risk, and responsibility** that come with full control and ownership of business decisions.\n",
      "\n",
      "If you are considering an agentic opportunity, be prepared to manage these challenges by building strong adaptive skills, resilience, and possibly seeking mentorship or communities for support.\n"
     ]
    }
   ],
   "source": [
    "messages = [{\"role\": \"user\", \"content\": f\"Which is a very big pain point in selected {business_idea}?\"}]\n",
    "\n",
    "response = openai.chat.completions.create(\n",
    "    model=\"gpt-4.1-mini\",\n",
    "    messages=messages\n",
    ")\n",
    "\n",
    "pain_point = response.choices[0].message.content\n",
    "\n",
    "print(pain_point)"
   ]
  },
  {
   "cell_type": "code",
   "execution_count": 19,
   "metadata": {},
   "outputs": [
    {
     "name": "stdout",
     "output_type": "stream",
     "text": [
      "The key challenge in selecting an **agentic opportunity**—**balancing autonomy with uncertainty and risk management**—can be addressed with several practical solutions and approaches that help entrepreneurs retain control while mitigating the pitfalls of uncertainty and high responsibility. Here are some effective strategies and tools entrepreneurs can use:\n",
      "\n",
      "---\n",
      "\n",
      "### Solutions to Manage Balancing Autonomy with Uncertainty and Risk in Agentic Opportunities\n",
      "\n",
      "1. **Build Adaptive and Lean Processes**\n",
      "   - Use **Lean Startup** methodologies: iterate quickly with minimum viable products (MVPs), validate assumptions with real customer feedback, and pivot fast to reduce wasted effort and limit risk.\n",
      "   - Develop **experimentation frameworks** to test hypotheses before fully committing resources.\n",
      "\n",
      "2. **Leverage Mentorship and Advisory Networks**\n",
      "   - Seek out mentors, advisors, or peer networks who have experience in dynamic environments to provide guidance, feedback, and reduce decision fatigue.\n",
      "   - Join entrepreneur communities or mastermind groups to share insights and gain emotional support.\n",
      "\n",
      "3. **Implement Structured Decision-Making Tools**\n",
      "   - Use decision matrices, risk assessment frameworks, or project management software to create structure around decisions without limiting creativity.\n",
      "   - Establish criteria for when to pivot versus persevere to reduce uncertainty-related stress.\n",
      "\n",
      "4. **Develop Financial and Time Buffer Strategies**\n",
      "   - Keep adequate financial reserves or access to flexible capital to absorb unexpected setbacks or risks.\n",
      "   - Use time-blocking and prioritization techniques like the Eisenhower matrix to manage workload and reduce overwhelm.\n",
      "\n",
      "5. **Cultivate Resilience and Psychological Flexibility**\n",
      "   - Build practices that increase resilience such as mindfulness, stress management, and reflective routines.\n",
      "   - Adopt a growth mindset to frame failures and uncertainties as learning rather than threats.\n",
      "\n",
      "6. **Use Modular and Scalable Business Models**\n",
      "   - Design your business in modular components that can be scaled incrementally, which allows you to maintain control without stretching resources too thin.\n",
      "   - Automate repetitive tasks where possible to focus your energy on high-impact, creative decisions.\n",
      "\n",
      "7. **Implement Customer-Centric Feedback Loops**\n",
      "   - Regularly engage customers to validate changes, reducing market unpredictability.\n",
      "   - Use data analytics and customer insights to make more informed and less risky strategic moves.\n",
      "\n",
      "8. **Pursue Strategic Partnerships**\n",
      "   - Collaborate with other businesses or individuals to share resources, knowledge, and risk.\n",
      "   - Partnerships can provide access to complementary skills and reduce the solo burden of responsibility.\n",
      "\n",
      "---\n",
      "\n",
      "### Summary\n",
      "\n",
      "While agentic opportunities emphasize autonomy and creativity, managing the associated uncertainty and risk requires:\n",
      "\n",
      "- Building adaptable processes that enable fast learning and iteration.\n",
      "- Seeking external support and structured frameworks to reduce decision fatigue.\n",
      "- Developing strong financial, emotional, and operational buffers.\n",
      "- Designing scalable, modular approaches while maintaining customer focus.\n",
      "\n",
      "By implementing these solutions, entrepreneurs can effectively balance the freedom and control inherent in agentic opportunities with the need to manage uncertainty, risks, and responsibilities.\n",
      "\n",
      "---\n",
      "\n",
      "If you'd like, I can also help tailor specific approaches for any of the example businesses you mentioned, like digital marketing agencies or SaaS startups!\n"
     ]
    }
   ],
   "source": [
    "messages = [{\"role\": \"user\", \"content\": f\"Which solutions are available to address underlined {pain_point} in {business_idea}?\"}]\n",
    "\n",
    "response = openai.chat.completions.create(\n",
    "    model=\"gpt-4.1-mini\",\n",
    "    messages=messages\n",
    ")\n",
    "\n",
    "solutions = response.choices[0].message.content\n",
    "\n",
    "print(solutions)"
   ]
  },
  {
   "cell_type": "markdown",
   "metadata": {},
   "source": []
  }
 ],
 "metadata": {
  "kernelspec": {
   "display_name": ".venv",
   "language": "python",
   "name": "python3"
  },
  "language_info": {
   "codemirror_mode": {
    "name": "ipython",
    "version": 3
   },
   "file_extension": ".py",
   "mimetype": "text/x-python",
   "name": "python",
   "nbconvert_exporter": "python",
   "pygments_lexer": "ipython3",
   "version": "3.12.4"
  }
 },
 "nbformat": 4,
 "nbformat_minor": 2
}
